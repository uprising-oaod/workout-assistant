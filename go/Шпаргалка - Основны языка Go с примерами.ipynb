{
 "cells": [
  {
   "cell_type": "markdown",
   "id": "3a42567e",
   "metadata": {},
   "source": [
    "# Шпаргалка - Основы языка Go с примерами"
   ]
  },
  {
   "cell_type": "markdown",
   "id": "3c9ff086",
   "metadata": {},
   "source": [
    "Примечание: Go kernel for Jupyter notebooks https://github.com/gopherdata/gophernotes"
   ]
  },
  {
   "cell_type": "code",
   "execution_count": 7,
   "id": "08e1f2a3",
   "metadata": {},
   "outputs": [],
   "source": [
    "import (\"fmt\")"
   ]
  },
  {
   "cell_type": "code",
   "execution_count": 8,
   "id": "5e7f5bec",
   "metadata": {},
   "outputs": [
    {
     "name": "stdout",
     "output_type": "stream",
     "text": [
      "Hello, Мир!\n"
     ]
    },
    {
     "data": {
      "text/plain": [
       "15 <nil>"
      ]
     },
     "execution_count": 8,
     "metadata": {},
     "output_type": "execute_result"
    }
   ],
   "source": [
    "fmt.Println(\"Hello, Мир!\")"
   ]
  },
  {
   "cell_type": "code",
   "execution_count": null,
   "id": "e22cae17",
   "metadata": {},
   "outputs": [],
   "source": []
  }
 ],
 "metadata": {
  "kernelspec": {
   "display_name": "Go",
   "language": "go",
   "name": "gophernotes"
  },
  "language_info": {
   "codemirror_mode": "",
   "file_extension": ".go",
   "mimetype": "",
   "name": "go",
   "nbconvert_exporter": "",
   "pygments_lexer": "",
   "version": "go1.17.6"
  }
 },
 "nbformat": 4,
 "nbformat_minor": 5
}
