{
 "cells": [
  {
   "cell_type": "markdown",
   "id": "064ceb03",
   "metadata": {},
   "source": [
    "# Шпаргалка - Основны языка Ruby с примерами"
   ]
  },
  {
   "cell_type": "code",
   "execution_count": 1,
   "id": "307ec63f",
   "metadata": {},
   "outputs": [
    {
     "name": "stdout",
     "output_type": "stream",
     "text": [
      "Hello, Мир!\n"
     ]
    }
   ],
   "source": [
    "puts \"Hello, Мир!\""
   ]
  },
  {
   "cell_type": "markdown",
   "id": "01618680",
   "metadata": {},
   "source": [
    "## Вывод"
   ]
  },
  {
   "cell_type": "markdown",
   "id": "1a66a936",
   "metadata": {},
   "source": [
    "метод puts, если на входе не строка, puts вызывает метод `.to_s` для преобразования его к строке"
   ]
  },
  {
   "cell_type": "markdown",
   "id": "300eb0b3",
   "metadata": {},
   "source": [
    "`p` = `.inspect`"
   ]
  },
  {
   "cell_type": "code",
   "execution_count": 2,
   "id": "c67a9f8c",
   "metadata": {
    "collapsed": true
   },
   "outputs": [
    {
     "name": "stdout",
     "output_type": "stream",
     "text": [
      "Hello\n",
      "1\n",
      "2\n",
      "3\n",
      "\"Hello\"\n",
      "[1, 2, 3]\n"
     ]
    },
    {
     "data": {
      "text/plain": [
       "[1, 2, 3]"
      ]
     },
     "execution_count": 2,
     "metadata": {},
     "output_type": "execute_result"
    }
   ],
   "source": [
    "puts \"Hello\"\n",
    "puts [1, 2, 3]\n",
    "\n",
    "p \"Hello\"\n",
    "p [1, 2, 3]"
   ]
  },
  {
   "cell_type": "code",
   "execution_count": null,
   "id": "d24027b7",
   "metadata": {},
   "outputs": [],
   "source": []
  }
 ],
 "metadata": {
  "kernelspec": {
   "display_name": "Ruby 2.7.3",
   "language": "ruby",
   "name": "ruby"
  },
  "language_info": {
   "file_extension": ".rb",
   "mimetype": "application/x-ruby",
   "name": "ruby",
   "version": "2.7.3"
  }
 },
 "nbformat": 4,
 "nbformat_minor": 5
}
