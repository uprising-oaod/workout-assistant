{
 "cells": [
  {
   "cell_type": "markdown",
   "id": "cd04a6b4",
   "metadata": {},
   "source": [
    "# Шпаргалка - Основы языка Ruby с примерами"
   ]
  },
  {
   "cell_type": "markdown",
   "id": "f44a60a5",
   "metadata": {},
   "source": [
    "Примечание: Ruby Kernel for Jupyter Notebook https://github.com/sciruby/iruby"
   ]
  },
  {
   "cell_type": "code",
   "execution_count": 1,
   "id": "f9dacb7d",
   "metadata": {
    "collapsed": true
   },
   "outputs": [
    {
     "name": "stdout",
     "output_type": "stream",
     "text": [
      "Hello, Мир!\n"
     ]
    }
   ],
   "source": [
    "puts \"Hello, Мир!\""
   ]
  },
  {
   "cell_type": "markdown",
   "id": "3d06d2f6",
   "metadata": {},
   "source": [
    "## Вывод"
   ]
  },
  {
   "cell_type": "markdown",
   "id": "3be072a9",
   "metadata": {},
   "source": [
    "метод puts, если на входе не строка, puts вызывает метод `.to_s` для преобразования его к строке"
   ]
  },
  {
   "cell_type": "markdown",
   "id": "a1488d3b",
   "metadata": {},
   "source": [
    "`p` = `.inspect`"
   ]
  },
  {
   "cell_type": "code",
   "execution_count": 10,
   "id": "f1991791",
   "metadata": {},
   "outputs": [
    {
     "name": "stdout",
     "output_type": "stream",
     "text": [
      "Hello\n",
      "1\n",
      "2\n",
      "3\n",
      "\"Hello\"\n",
      "[1, 2, 3]\n"
     ]
    },
    {
     "data": {
      "text/plain": [
       "[1, 2, 3]"
      ]
     },
     "execution_count": 10,
     "metadata": {},
     "output_type": "execute_result"
    }
   ],
   "source": [
    "puts \"Hello\"\n",
    "puts [1, 2, 3]\n",
    "\n",
    "p \"Hello\"\n",
    "p [1, 2, 3]"
   ]
  },
  {
   "cell_type": "markdown",
   "id": "473156b0",
   "metadata": {},
   "source": [
    "## Переменные"
   ]
  },
  {
   "cell_type": "markdown",
   "id": "6ca41114",
   "metadata": {},
   "source": [
    "Переменная указывает на объект. Хотя в большинстве случаев, клонировние объекта производится автоматически, иногда могуть возникать проблемы из-за этой особенности. Например:"
   ]
  },
  {
   "cell_type": "code",
   "execution_count": 4,
   "id": "5f580c38",
   "metadata": {
    "scrolled": false
   },
   "outputs": [
    {
     "name": "stdout",
     "output_type": "stream",
     "text": [
      "\"Кит\"\n"
     ]
    },
    {
     "data": {
      "text/plain": [
       "\"Кит\""
      ]
     },
     "execution_count": 4,
     "metadata": {},
     "output_type": "execute_result"
    }
   ],
   "source": [
    "first = \"Кот\"\n",
    "second = first\n",
    "second[1]=\"и\" # Меняется объект, а значит и вторая, и первая переменные\n",
    "p first # Обе переменные указывают на один объект\n",
    "second"
   ]
  },
  {
   "cell_type": "markdown",
   "id": "2432d558",
   "metadata": {},
   "source": [
    "Если нужно изменить объект, но сохранить копию оригинала, можно копировать объект с помощью методов `.clone` или `.dup`\n",
    "Разница между ними https://www.rubyguides.com/2018/11/dup-vs-clone/"
   ]
  },
  {
   "cell_type": "code",
   "execution_count": 5,
   "id": "d9fca1ba",
   "metadata": {},
   "outputs": [
    {
     "name": "stdout",
     "output_type": "stream",
     "text": [
      "\"Кот\"\n"
     ]
    },
    {
     "data": {
      "text/plain": [
       "\"Кит\""
      ]
     },
     "execution_count": 5,
     "metadata": {},
     "output_type": "execute_result"
    }
   ],
   "source": [
    "first = \"Кот\"\n",
    "second = first.clone # Создаём второй объект из первого.\n",
    "second[1]=\"и\" # Меняется второй объект, а значит только вторая переменная\n",
    "p first # Первый объект не изменился\n",
    "second"
   ]
  },
  {
   "cell_type": "markdown",
   "id": "25c30cdf",
   "metadata": {},
   "source": [
    "Типы переменных"
   ]
  },
  {
   "cell_type": "code",
   "execution_count": 11,
   "id": "b620451f",
   "metadata": {},
   "outputs": [
    {
     "data": {
      "text/plain": [
       "5"
      ]
     },
     "execution_count": 11,
     "metadata": {},
     "output_type": "execute_result"
    }
   ],
   "source": [
    "something =  1\n",
    "_something =  1\n",
    "# локальные - доступны только внутри блока где были инициализированы или ниже, недоступны выше\n",
    "\n",
    "@something = 2 # инстансная (переменная экземпляра) \n",
    "#- принадлежит объекту, который является классом\n",
    "# Чтобы определить переменные экземпляра для объектов, принадлежащих классу,\n",
    "# используйте @ внутри initialize()\n",
    "\n",
    "@@something = 3 # переменная класса, она доступны всем экземплярам класса\n",
    "# и может быть переопределена ниже, если используется такое же имя.\n",
    "\n",
    "Something =  4 # константа\n",
    "SOMETHING =  5 # константа\n",
    "$something = 6 # глобальная"
   ]
  },
  {
   "cell_type": "markdown",
   "id": "2a5b12f7",
   "metadata": {},
   "source": [
    "Скобки и двоеточия не требуются, но могут быть использованы.\n",
    "\n",
    "Базовые правила:\n",
    "- Скобки не нужны для метода без аргументов => `def foo`\n",
    "- Скобки используются если есть аргументы => `def foo(a, b, c)`\n",
    "- Скобки нужны для определния приоритета => `(a.size + b.size) * 2`"
   ]
  },
  {
   "cell_type": "markdown",
   "id": "d5dac42d",
   "metadata": {},
   "source": [
    "Поскольку управляющие структуры также являются выражениями, возможны такие присваивания"
   ]
  },
  {
   "cell_type": "code",
   "execution_count": 16,
   "id": "716848f8",
   "metadata": {},
   "outputs": [
    {
     "data": {
      "text/plain": [
       "false"
      ]
     },
     "execution_count": 16,
     "metadata": {},
     "output_type": "execute_result"
    }
   ],
   "source": [
    "foo = case 0\n",
    "       when 1\n",
    "         true\n",
    "       else\n",
    "         false\n",
    "       end\n",
    "\n",
    "foo"
   ]
  },
  {
   "cell_type": "markdown",
   "id": "71afb7ea",
   "metadata": {},
   "source": [
    "**Тернарный оператор**"
   ]
  },
  {
   "cell_type": "code",
   "execution_count": 66,
   "id": "27bc6414",
   "metadata": {},
   "outputs": [
    {
     "data": {
      "text/plain": [
       "\"no\""
      ]
     },
     "execution_count": 66,
     "metadata": {},
     "output_type": "execute_result"
    }
   ],
   "source": [
    "false ? \"yes\" : \"no\""
   ]
  },
  {
   "cell_type": "markdown",
   "id": "455d24d4",
   "metadata": {},
   "source": [
    "## Базовые типы данных"
   ]
  },
  {
   "cell_type": "markdown",
   "id": "e036ae03",
   "metadata": {},
   "source": [
    "### Числа"
   ]
  },
  {
   "cell_type": "code",
   "execution_count": 7,
   "id": "02b4b7f5",
   "metadata": {},
   "outputs": [
    {
     "name": "stdout",
     "output_type": "stream",
     "text": [
      "62\n",
      "2\n",
      "137\n"
     ]
    },
    {
     "data": {
      "text/plain": [
       "123456"
      ]
     },
     "execution_count": 7,
     "metadata": {},
     "output_type": "execute_result"
    }
   ],
   "source": [
    "p 076 # восьмеричное число 62\n",
    "p 0b010 # двоичное число 2\n",
    "p 0x89 # шестнадцатеричное число 137\n",
    "123_456 # подчеркивание игнорируется"
   ]
  },
  {
   "cell_type": "markdown",
   "id": "2da0e733",
   "metadata": {},
   "source": [
    "операции получение остатка от деления: `%`, возведение в степень: `**`"
   ]
  },
  {
   "cell_type": "markdown",
   "id": "bbf6d80b",
   "metadata": {},
   "source": [
    "Пример, **перевести число в двоичную форму**"
   ]
  },
  {
   "cell_type": "code",
   "execution_count": null,
   "id": "6e625bdc",
   "metadata": {},
   "outputs": [],
   "source": [
    "p sprintf(\"%b\", 5)    # метод sprintf заимствован из Си\n",
    "p 5.to_s(2) # перевести в строку по основанию 2 (можно использовать любое основание до 36)"
   ]
  },
  {
   "cell_type": "markdown",
   "id": "2554b0fe",
   "metadata": {},
   "source": [
    "Пример, **поменять две переменные местами без использования третьей вспомогательной**"
   ]
  },
  {
   "cell_type": "code",
   "execution_count": 9,
   "id": "48cef5b6",
   "metadata": {},
   "outputs": [
    {
     "name": "stdout",
     "output_type": "stream",
     "text": [
      "1\n",
      "2\n",
      "2\n",
      "1\n"
     ]
    },
    {
     "data": {
      "text/plain": [
       "[2, 1]"
      ]
     },
     "execution_count": 9,
     "metadata": {},
     "output_type": "execute_result"
    }
   ],
   "source": [
    "a = 1\n",
    "b = 2\n",
    "p a,b\n",
    "a,b = b,a\n",
    "p a,b"
   ]
  },
  {
   "cell_type": "markdown",
   "id": "6702e470",
   "metadata": {},
   "source": [
    "**преобразование типов**\n",
    "\n",
    "явное `to_f`, `to_i`, `to_s`"
   ]
  },
  {
   "cell_type": "code",
   "execution_count": null,
   "id": "f4fb6fde",
   "metadata": {},
   "outputs": [],
   "source": [
    "p 123_456.to_f\n",
    "p 123_456.7.to_i\n",
    "p 123_456.to_s"
   ]
  },
  {
   "cell_type": "markdown",
   "id": "5c0ab7a7",
   "metadata": {},
   "source": [
    "### Логический тип `true` `false`"
   ]
  },
  {
   "cell_type": "markdown",
   "id": "6178d36a",
   "metadata": {},
   "source": [
    "Традиционно имена логических методов заканчиваются на `?` (знак вопроса).\n",
    "\n",
    "В качестве `false` может выступать `nil`, а в качестве `true` — любой объект.\n",
    "\n",
    "`nil` — это символ пустоты."
   ]
  },
  {
   "cell_type": "markdown",
   "id": "fc6c7a0a",
   "metadata": {},
   "source": [
    "### Массивы"
   ]
  },
  {
   "cell_type": "markdown",
   "id": "06e326d7",
   "metadata": {},
   "source": [
    "Нет динамических массивов, списков, стеков, всё реализовано методами в классе `array`\n",
    "\n",
    "Большая библиотека итераторов позволяет не использовать циклы для обработки массивов\n",
    "\n",
    "Много методов на все случаи"
   ]
  },
  {
   "cell_type": "markdown",
   "id": "8bbdee7b",
   "metadata": {},
   "source": [
    "**Создание массива**\n",
    "\n",
    "Следующие три способа самые распространенные"
   ]
  },
  {
   "cell_type": "code",
   "execution_count": 10,
   "id": "ca0c99dd",
   "metadata": {},
   "outputs": [
    {
     "name": "stdout",
     "output_type": "stream",
     "text": [
      "[\"массивы гетерогенны\", 42, [4, \"тест\"]]\n",
      "[1, 2, 3, 4, 5, 6]\n"
     ]
    },
    {
     "data": {
      "text/plain": [
       "[1, 2, 3, 4, 5, 6]"
      ]
     },
     "execution_count": 10,
     "metadata": {},
     "output_type": "execute_result"
    }
   ],
   "source": [
    "# создание массива путем перечисления элементов\n",
    "p [\"массивы гетерогенны\", 42, [4, \"тест\"]] \n",
    "\n",
    "# создание массива, через вызов метода .new класса Array\n",
    "p Array.new(6){ |index| index + 1 }    \n",
    "\n",
    "# Ещё один способ создания массива - создании объекта типа Range (диапазон) и вызове метода .to_a\n",
    "(1..6).to_a    "
   ]
  },
  {
   "cell_type": "markdown",
   "id": "74ded5b0",
   "metadata": {},
   "source": [
    "Методом `to_a` очень удобно создавать из диапазона массив, содержащий упорядоченные элементы данного диапазона."
   ]
  },
  {
   "cell_type": "code",
   "execution_count": 11,
   "id": "5b1985f4",
   "metadata": {},
   "outputs": [
    {
     "name": "stdout",
     "output_type": "stream",
     "text": [
      "[1, 2, 3, 4, 5, 6, 7, 8, 9, 10]\n"
     ]
    },
    {
     "data": {
      "text/plain": [
       "[\"a\", \"b\", \"c\", \"d\", \"e\"]"
      ]
     },
     "execution_count": 11,
     "metadata": {},
     "output_type": "execute_result"
    }
   ],
   "source": [
    "p (1..10).to_a       #=>  [1, 2, 3, 4, 5, 6, 7, 8, 9, 10]\n",
    "array = (\"a\"..\"e\").to_a    #=>  [\"a\", \"b\", \"c\", \"d\"]"
   ]
  },
  {
   "cell_type": "markdown",
   "id": "e3f5afee",
   "metadata": {},
   "source": [
    "**отрицательная индексация**"
   ]
  },
  {
   "cell_type": "code",
   "execution_count": 12,
   "id": "1251c2be",
   "metadata": {},
   "outputs": [
    {
     "name": "stdout",
     "output_type": "stream",
     "text": [
      "\"d\"\n"
     ]
    },
    {
     "data": {
      "text/plain": [
       "\"d\""
      ]
     },
     "execution_count": 12,
     "metadata": {},
     "output_type": "execute_result"
    }
   ],
   "source": [
    "p array[array.size - 2]                #=> \"d\" Аналогично нижеследующему\n",
    "array[-2]                            #=> \"d\" Такая запись короче"
   ]
  },
  {
   "cell_type": "markdown",
   "id": "f638d621",
   "metadata": {},
   "source": [
    "Для Ruby двумерный массив — это не более чем массив, содержащий одномерные массивы. Двумерность массива средствами языка не отслеживается.\n",
    "\n",
    "Элементы из двумерного массива достаются последовательно: сначала элемент-массив, потом элемент."
   ]
  },
  {
   "cell_type": "markdown",
   "id": "55e760de",
   "metadata": {},
   "source": [
    "**Поиск максимального/минимального элемента**\n",
    "\n",
    "Методы `.max` и `.max_by`, а также `.min` и `.min_by`"
   ]
  },
  {
   "cell_type": "code",
   "execution_count": 13,
   "id": "c306409b",
   "metadata": {},
   "outputs": [
    {
     "name": "stdout",
     "output_type": "stream",
     "text": [
      "\"д\"\n"
     ]
    },
    {
     "data": {
      "text/plain": [
       "\"вг\""
      ]
     },
     "execution_count": 13,
     "metadata": {},
     "output_type": "execute_result"
    }
   ],
   "source": [
    "p [\"а\", \"б\", \"вг\", \"д\", \"в\"].max                       #=> \"д\"      максимальный по значению\n",
    "[\"а\", \"б\", \"вг\", \"д\", \"в\"].max_by{ |elem| elem.size }  #=> \"вг\" максимальный по размеру строки"
   ]
  },
  {
   "cell_type": "markdown",
   "id": "3cb6b74d",
   "metadata": {},
   "source": [
    "**Упорядочение массива** - аналогично вызывается метод `.sort` или `.sort_by`"
   ]
  },
  {
   "cell_type": "markdown",
   "id": "fa9c922f",
   "metadata": {},
   "source": [
    "**Обращение массива**\n",
    "\n",
    "метод `.reverse`"
   ]
  },
  {
   "cell_type": "markdown",
   "id": "f529d01f",
   "metadata": {},
   "source": [
    "**Сложение/вычитание массивов**\n",
    "\n",
    "Конкатенация выполняется методом `+` - массив справа прицепляется, к тому, что слева.\n",
    "\n",
    "Вычитаются массивы методом `-` - Из первого массива удаляются все элементы, имеющиеся во втором, независимо от их количества. Остальные элементы остаются без изменений, сохраняют относительные позиции."
   ]
  },
  {
   "cell_type": "code",
   "execution_count": 17,
   "id": "0b7d4bf9",
   "metadata": {},
   "outputs": [
    {
     "data": {
      "text/plain": [
       "[3, 3, 3, 5]"
      ]
     },
     "execution_count": 17,
     "metadata": {},
     "output_type": "execute_result"
    }
   ],
   "source": [
    "[1, 1, 2, 2, 3, 3, 3, 4, 5] - [1, 2, 4] "
   ]
  },
  {
   "cell_type": "code",
   "execution_count": 18,
   "id": "df39d056",
   "metadata": {},
   "outputs": [
    {
     "data": {
      "text/plain": [
       "[3, 5]"
      ]
     },
     "execution_count": 18,
     "metadata": {},
     "output_type": "execute_result"
    }
   ],
   "source": [
    "[1, 2, 2, 3, 4, 5] - [1, 2, 4, 6] "
   ]
  },
  {
   "cell_type": "markdown",
   "id": "8224ecf1",
   "metadata": {},
   "source": [
    "**Объединение и пересечение массивов (как множеств)**\n",
    "\n",
    "два метода: `|` (объединение) и `&` (пересечение).\n",
    "\n",
    "В итоге пересечения или объединения множеств получается массив, не содержащий дубликатов."
   ]
  },
  {
   "cell_type": "markdown",
   "id": "a63dce35",
   "metadata": {},
   "source": [
    "Объединение - после сложения удаляются повторяющиеся элементы слева направо"
   ]
  },
  {
   "cell_type": "code",
   "execution_count": 19,
   "id": "b0acc8ed",
   "metadata": {},
   "outputs": [
    {
     "data": {
      "text/plain": [
       "[1, 2, 3, 4, 5, 6, 0, 7]"
      ]
     },
     "execution_count": 19,
     "metadata": {},
     "output_type": "execute_result"
    }
   ],
   "source": [
    "[1, 2, 3, 4, 5, 5, 6] | [0, 1, 2, 3, 4, 5, 7]"
   ]
  },
  {
   "cell_type": "markdown",
   "id": "2aa271d9",
   "metadata": {},
   "source": [
    "**метод `.uniq`** - тоже самое что объединение, удобен для одного массива. Можно представить как:"
   ]
  },
  {
   "cell_type": "code",
   "execution_count": 21,
   "id": "74586a0a",
   "metadata": {},
   "outputs": [
    {
     "data": {
      "text/plain": [
       "[1, 2, 3, 4, 5, 6, 0, 7]"
      ]
     },
     "execution_count": 21,
     "metadata": {},
     "output_type": "execute_result"
    }
   ],
   "source": [
    "([1, 2, 3, 4, 5, 5, 6] + [0, 1, 2, 3, 4, 5, 7]).uniq"
   ]
  },
  {
   "cell_type": "markdown",
   "id": "50d83df6",
   "metadata": {},
   "source": [
    "Пересечение - из первого удаляются все элементы, отсутствующие во втором. \n",
    "А из второго, отсутствующие в первом. \n",
    "При этом относительный порядок остающихся элементов первого массива сохраняется."
   ]
  },
  {
   "cell_type": "code",
   "execution_count": 20,
   "id": "cd191288",
   "metadata": {},
   "outputs": [
    {
     "data": {
      "text/plain": [
       "[1, 2, 3, 4, 5]"
      ]
     },
     "execution_count": 20,
     "metadata": {},
     "output_type": "execute_result"
    }
   ],
   "source": [
    "[1, 2, 3, 4, 5, 5, 6] & [0, 2, 1, 3, 5, 4, 7] "
   ]
  },
  {
   "cell_type": "markdown",
   "id": "1e7c39ef",
   "metadata": {},
   "source": [
    "**Сплющивание (flatten) массивов**\n",
    "\n",
    "Метод `.flatten` делает из многомерного массива простой, длинный одномерный массив"
   ]
  },
  {
   "cell_type": "markdown",
   "id": "429508a2",
   "metadata": {},
   "source": [
    "**Удаление неопределённых (nil) элементов**\n",
    "\n",
    "выполняет метод `.compact`"
   ]
  },
  {
   "cell_type": "markdown",
   "id": "b516e244",
   "metadata": {},
   "source": [
    "**Транспонирование двумерного массива** - метод `.transpose`\n",
    "\n",
    "Задача: дан двумерный массив. Вывести одномерный массив с максимумами каждого из _столбцов_.\n",
    "\n",
    "Чтобы решить задачу, нужно предварительно транспонировать массив (поменять местами строки и столбцы):"
   ]
  },
  {
   "cell_type": "code",
   "execution_count": 22,
   "id": "e9b80110",
   "metadata": {},
   "outputs": [
    {
     "data": {
      "text/plain": [
       "[3, 4]"
      ]
     },
     "execution_count": 22,
     "metadata": {},
     "output_type": "execute_result"
    }
   ],
   "source": [
    "array2D = [[1, 2], [3, 4]]\n",
    "array2D.transpose.map{ |array| array.max } "
   ]
  },
  {
   "cell_type": "markdown",
   "id": "bdbaf3c7",
   "metadata": {},
   "source": [
    "Чтобы найти максимум построчно, достаточно убрать метод `.transpose`"
   ]
  },
  {
   "cell_type": "markdown",
   "id": "18f2c7f2",
   "metadata": {},
   "source": [
    "**стек**\n",
    "\n",
    "добавить/удалить элемент в конец/из конца массива"
   ]
  },
  {
   "cell_type": "code",
   "execution_count": 27,
   "id": "e139f1c4",
   "metadata": {},
   "outputs": [
    {
     "name": "stdout",
     "output_type": "stream",
     "text": [
      "[1, 2, 3, 4, 5, 6]\n",
      "[1, 2, 3, 4, 5]\n",
      "[1, 2, 3, 4, 5, 6]\n",
      "[1, 2, 3, 4, 5, 6, 7]\n"
     ]
    },
    {
     "data": {
      "text/plain": [
       "[1, 2, 3, 4, 5, 6]"
      ]
     },
     "execution_count": 27,
     "metadata": {},
     "output_type": "execute_result"
    }
   ],
   "source": [
    "array = [1, 2, 3, 4, 5]\n",
    "array[array.size] = 6 # добавляем элемент на место с индексом размера массива (т.е. +1)\n",
    "p array   \n",
    "array = array[0...-1] # удаляем последний элемент\n",
    "p array \n",
    "array.push(6)\n",
    "p array       \n",
    "p array << 7 # еще один способ, с другим синтаксисом\n",
    "array.pop \n",
    "array"
   ]
  },
  {
   "cell_type": "markdown",
   "id": "297336da",
   "metadata": {},
   "source": [
    "**Очередь и список**\n"
   ]
  },
  {
   "cell_type": "code",
   "execution_count": 33,
   "id": "2719d848",
   "metadata": {},
   "outputs": [
    {
     "name": "stdout",
     "output_type": "stream",
     "text": [
      "[6, 1, 2, 3, 4, 5]\n",
      "[6, 6, 1, 2, 3, 4, 5]\n",
      "[6, 1, 2, 3, 4, 5]\n",
      "[6, 6, 1, 2, 3, 4, 5]\n",
      "[6, 1, 2, 3, 4, 5]\n"
     ]
    },
    {
     "data": {
      "text/plain": [
       "[1, 2, 3, 4, 5]"
      ]
     },
     "execution_count": 33,
     "metadata": {},
     "output_type": "execute_result"
    }
   ],
   "source": [
    "# добавим элемент в начало массива\n",
    "array = [1, 2, 3, 4, 5]\n",
    "\n",
    "# способ № 1\n",
    "array = [6] + array\n",
    "p array\n",
    "\n",
    "# способ № 2\n",
    "array[1..array.size] = array[0..-1] \n",
    "array[0] = 6\n",
    "p array\n",
    "\n",
    "# удалим элемент из начала массива\n",
    "array = array[1..-1]\n",
    "p array\n",
    "\n",
    "# добавляем элемент в начало массива с помощью метода .unshift\n",
    "array.unshift(6)\n",
    "p array\n",
    "\n",
    "# удаляем из начала массива\n",
    "array.shift \n",
    "p array\n",
    "array.shift # вернемся к первоначальному виду\n",
    "array"
   ]
  },
  {
   "cell_type": "markdown",
   "id": "7e85ea55",
   "metadata": {},
   "source": [
    "Таким образом - методы с параметром добавляют элемент в массив `unshift(6)`, `push(6)`, а методы без параметра — удаляют `shift`, `pop`"
   ]
  },
  {
   "cell_type": "markdown",
   "id": "7ae4ac99",
   "metadata": {},
   "source": [
    "**Логические методы**\n",
    "\n",
    "**Есть ли элемент в массиве?** - метод `.include?`, например `array.include?(required)`\n",
    "\n",
    "**Массив пустой?** - метод `.empty?`, например `array.empty?`\n",
    "\n",
    "**В Ruby принято избегать отрицания условия** поэтому метод `.any?` проверяет, заполнен ли массив - `array.any?`  "
   ]
  },
  {
   "cell_type": "markdown",
   "id": "131cc022",
   "metadata": {},
   "source": [
    "**Итераторы**\n",
    "\n",
    "Оптимизированные циклы.\n",
    "\n",
    "Примеры:\n",
    "\n",
    "Итератор `.map`, за которым следует замыкание в фигурных скобках.\n",
    "\n",
    "`.map` последовательно проходит `array` и выполняет замыкание заново для каждого элемента. То, что выходит из замыкания, итератор `.map` делает очередным элементом нового массива."
   ]
  },
  {
   "cell_type": "code",
   "execution_count": 34,
   "id": "bf0fb272",
   "metadata": {},
   "outputs": [
    {
     "name": "stdout",
     "output_type": "stream",
     "text": [
      "[0, 0, 0, 0, 0]\n"
     ]
    },
    {
     "data": {
      "text/plain": [
       "[1, 4, 9, 16, 25]"
      ]
     },
     "execution_count": 34,
     "metadata": {},
     "output_type": "execute_result"
    }
   ],
   "source": [
    "array = [1, 2, 3, 4, 5]\n",
    "p array.map{ 0 } \n",
    "array.map{ |elem| elem ** 2 } "
   ]
  },
  {
   "cell_type": "markdown",
   "id": "c755a3da",
   "metadata": {},
   "source": [
    "**Отбор элементов по признаку**\n",
    "\n",
    "`.find_all` - Выражение в замыкании для `.find_all` должно быть логическим"
   ]
  },
  {
   "cell_type": "code",
   "execution_count": 35,
   "id": "ed6b7228",
   "metadata": {},
   "outputs": [
    {
     "data": {
      "text/plain": [
       "[2, 4]"
      ]
     },
     "execution_count": 35,
     "metadata": {},
     "output_type": "execute_result"
    }
   ],
   "source": [
    "array = [1, 2, 3, 4, 5]\n",
    "array.find_all{ |elem| elem % 2 == 0 } # Находим элементы по условию. Если четный, то включаем"
   ]
  },
  {
   "cell_type": "markdown",
   "id": "6c445c90",
   "metadata": {},
   "source": [
    "Есть также методы `.zero?`, `.odd?`, `.even?` которые можно использовать для решения подобной задачи."
   ]
  },
  {
   "cell_type": "markdown",
   "id": "7058fc57",
   "metadata": {},
   "source": [
    "**Суммирование/произведение/агрегация элементов**\n",
    "\n",
    "Для этих целей традиционно используется итератор `.inject`."
   ]
  },
  {
   "cell_type": "code",
   "execution_count": 39,
   "id": "7809b023",
   "metadata": {},
   "outputs": [
    {
     "data": {
      "text/plain": [
       "120"
      ]
     },
     "execution_count": 39,
     "metadata": {},
     "output_type": "execute_result"
    }
   ],
   "source": [
    "array = [1, 2, 3, 4, 5]\n",
    "array.inject(0){ |result, elem| result + elem }\n",
    "# где 0 - начальное значение\n",
    "# result хранит промежуточное значение, elem - текущий элемент"
   ]
  },
  {
   "cell_type": "code",
   "execution_count": 40,
   "id": "2233981e",
   "metadata": {},
   "outputs": [
    {
     "data": {
      "text/plain": [
       "362880"
      ]
     },
     "execution_count": 40,
     "metadata": {},
     "output_type": "execute_result"
    }
   ],
   "source": [
    "# Пример вычисления факториала с помощью итератора .inject\n",
    "n = 9\n",
    "(1..n).to_a.inject(){ |one, two| one * two }"
   ]
  },
  {
   "cell_type": "code",
   "execution_count": 41,
   "id": "30f7fc41",
   "metadata": {},
   "outputs": [
    {
     "data": {
      "text/plain": [
       "240"
      ]
     },
     "execution_count": 41,
     "metadata": {},
     "output_type": "execute_result"
    }
   ],
   "source": [
    "# найти произведение всех положительных элементов массива\n",
    "array = [-1, -2, -3, 4, -5, 6, 10]\n",
    "array.find_all{ |elem| elem > 0 }.inject(1){|a,b| a*b }"
   ]
  },
  {
   "cell_type": "markdown",
   "id": "fad69ffb",
   "metadata": {},
   "source": [
    "**Разбиение надвое**\n",
    "\n",
    "Итератор `.partition` делит массив на две части по некоторому бинарному признаку"
   ]
  },
  {
   "cell_type": "code",
   "execution_count": 47,
   "id": "1a01bdaf",
   "metadata": {},
   "outputs": [
    {
     "name": "stdout",
     "output_type": "stream",
     "text": [
      "[3, 6, 9]\n"
     ]
    },
    {
     "data": {
      "text/plain": [
       "[1, 2, 4, 5, 7, 8]"
      ]
     },
     "execution_count": 47,
     "metadata": {},
     "output_type": "execute_result"
    }
   ],
   "source": [
    "array = [1, 2, 3, 4, 5, 6, 7, 8, 9]\n",
    "# разбиваем на два массива по признаку кратности трём и заносим в две переменные\n",
    "one, two = array.partition{ |x| (x % 3).zero? } \n",
    "p one\n",
    "two"
   ]
  },
  {
   "cell_type": "markdown",
   "id": "f1c36336",
   "metadata": {},
   "source": [
    "**Логические итераторы**\n",
    "\n",
    "Все ли элементы удовлетворяют условию? В математической логике такой «итератор» называется _квантором общности_. На языке Ruby он называется `.all?`\n",
    "\n",
    "Хотя бы один элемент удовлетворяет условию? Еще один итератор из мат.логики - _квантор существования_. В Ruby он называется `.any?` "
   ]
  },
  {
   "cell_type": "code",
   "execution_count": 52,
   "id": "9be8803a",
   "metadata": {},
   "outputs": [
    {
     "data": {
      "text/plain": [
       "true"
      ]
     },
     "execution_count": 52,
     "metadata": {},
     "output_type": "execute_result"
    }
   ],
   "source": [
    "array = [3, 4, 6, 3]\n",
    "# все ли элементы массива больше двух\n",
    "array.all?{ |elem| elem > 2 }"
   ]
  },
  {
   "cell_type": "code",
   "execution_count": 55,
   "id": "9e6bacb2",
   "metadata": {},
   "outputs": [
    {
     "data": {
      "text/plain": [
       "false"
      ]
     },
     "execution_count": 55,
     "metadata": {},
     "output_type": "execute_result"
    }
   ],
   "source": [
    "# есть ли хоть один элемент больше двух\n",
    "array = [1, 2, 2, -3]\n",
    "array.any?{ |elem| elem > 2 }"
   ]
  },
  {
   "cell_type": "markdown",
   "id": "0d2351fb",
   "metadata": {},
   "source": [
    "**Еще примеры**"
   ]
  },
  {
   "cell_type": "code",
   "execution_count": 63,
   "id": "c3d10869",
   "metadata": {},
   "outputs": [
    {
     "data": {
      "text/plain": [
       "\"UoAaznCb\""
      ]
     },
     "execution_count": 63,
     "metadata": {},
     "output_type": "execute_result"
    }
   ],
   "source": [
    "# Генератор пароля - 8 случайных символов\n",
    "symbols = [\"a\"..\"z\", \"A\"..\"Z\", \"0\"..\"9\"].map{ |range| range.to_a }.flatten\n",
    "\n",
    "(0...8).map{ symbols.sample }.join  # Метод sample возвращает случайный элемент из массива."
   ]
  },
  {
   "cell_type": "code",
   "execution_count": 64,
   "id": "49a90d01",
   "metadata": {},
   "outputs": [
    {
     "data": {
      "text/plain": [
       "[2, 1, 3, 5, 7, 4, 6]"
      ]
     },
     "execution_count": 64,
     "metadata": {},
     "output_type": "execute_result"
    }
   ],
   "source": [
    "# Перемешать упорядоченный массив:\n",
    "\n",
    "array = [1, 2, 3, 4, 5, 6, 7]\n",
    "array.sort_by{ rand } "
   ]
  },
  {
   "cell_type": "code",
   "execution_count": 65,
   "id": "e9f8def2",
   "metadata": {},
   "outputs": [
    {
     "data": {
      "text/plain": [
       "[7, 6, 5, 4, 3, 2, 1]"
      ]
     },
     "execution_count": 65,
     "metadata": {},
     "output_type": "execute_result"
    }
   ],
   "source": [
    "# Выстроить элементы массива по убыванию без использования .reverse:\n",
    "\n",
    "array = [2, 1, 3, 5, 6, 7, 4]\n",
    "array.sort{ |x, y| y <=> x } "
   ]
  },
  {
   "cell_type": "markdown",
   "id": "0308fd1f",
   "metadata": {},
   "source": [
    "### Ассоциативные массивы - хеши, словари"
   ]
  },
  {
   "cell_type": "markdown",
   "id": "a99e4734",
   "metadata": {},
   "source": [
    "Различают два типа массивов: **индексные**, у которых в качестве индекса только целое число, и **ассоциативные**, где индексом может быть любой объект.\n",
    "\n",
    "Индексные массивы чаще всего называют просто «массивами», а ассоциативные массивы — «хешами» или «словарями».\n",
    "\n",
    "В отличие от массива, хеш неупорядочен: нельзя заранее сказать, какая пара будет первой, а какая последней. \n",
    "\n",
    "Поскольку в Ruby переменные не типизированы и методам с похожей функциональностью дают похожие имена, то использование хеша чаще всего равносильно использованию массива.\n",
    "\n",
    "Бывают задачи, решаемые с хешами легко и удобно, но таких задач мало. Чаще всего хватает использования массива. \n",
    "\n",
    "В качестве ключей ассоциативного массива можно использовать любые типы. Например, другие ассоциативные массивы, строки, числа, символы или просто объекты любых классов.\n",
    "\n",
    "Если состояние объектов-ключей изменилось, то хешу необходимо вызвать метод `.rehash`."
   ]
  },
  {
   "cell_type": "code",
   "execution_count": 6,
   "id": "be5312c1",
   "metadata": {},
   "outputs": [
    {
     "name": "stdout",
     "output_type": "stream",
     "text": [
      "100\n",
      "nil\n"
     ]
    },
    {
     "data": {
      "text/plain": [
       "100"
      ]
     },
     "execution_count": 6,
     "metadata": {},
     "output_type": "execute_result"
    }
   ],
   "source": [
    "array1 = [\"а\", \"б\"]\n",
    "array2 = [\"в\", \"г\"]\n",
    "hash = {array1=>100, array2=>300}\n",
    "p hash[array1]                         #=> 100\n",
    "array1[0] = \"я\"\n",
    "p hash[array1]                         #=> nil\n",
    "hash.rehash                          #=> {[\"я\", \"б\"]=>100, [\"в\", \"г\"]=>300}\n",
    "hash[array1]                         #=> 100"
   ]
  },
  {
   "cell_type": "markdown",
   "id": "7b324974",
   "metadata": {},
   "source": [
    "Способы создания ассоциативного массива"
   ]
  },
  {
   "cell_type": "code",
   "execution_count": 11,
   "id": "bdb4cc11",
   "metadata": {},
   "outputs": [
    {
     "data": {
      "text/plain": [
       "{\"зарплата\"=>1260}"
      ]
     },
     "execution_count": 11,
     "metadata": {},
     "output_type": "execute_result"
    }
   ],
   "source": [
    "array = [1, 4, 5, 3, 2, 2]\n",
    "Hash[*array]                  #=> {1=>4, 5=>3, 2=>2}\n",
    "\n",
    "array = [[1, 4], [5, 3], [2, 2]]\n",
    "Hash[*array.flatten]                #=> {1=>4, 5=>3, 2=>2}\n",
    "\n",
    "array = [[1, 5, 2], [4, 3, 2]]\n",
    "Hash[*array.transpose.flatten]    #=> {1=>4, 5=>3, 2=>2}\n",
    "\n",
    "hash = {} # Если нет данных\n",
    "\n",
    "hash = Hash.new(\"\")\n",
    "hash[\"строка\"] += \"строка 1, \"\n",
    "hash[\"строка\"] += \"строка 2 \" #=> {\"строка 1, строка 2 \"}\n",
    "\n",
    "hash = Hash.new(0)\n",
    "hash[\"зарплата\"] += 60\n",
    "hash[\"зарплата\"] *= 21\n",
    "hash      #=> {\"зарплата\"=>1260}"
   ]
  },
  {
   "cell_type": "markdown",
   "id": "5cd7a4a5",
   "metadata": {},
   "source": [
    "Первый случай применимости хеша: если в массиве намечаются обширные незаполненные (то есть заполненные nil) области, то целесообразнее использовать хеш с целочисленным индексом (массив будет хранить избыточную информацию, а хеш — только нужную)."
   ]
  },
  {
   "cell_type": "code",
   "execution_count": 3,
   "id": "f9991d05",
   "metadata": {},
   "outputs": [
    {
     "name": "stdout",
     "output_type": "stream",
     "text": [
      "6\n",
      "nil\n",
      "6\n",
      "nil\n"
     ]
    }
   ],
   "source": [
    "hash = {5=>3, 1=>6, 3=>2}\n",
    "array = [nil, 6, nil, 2, nil, 3] # аналогично, но длиннее\n",
    "p hash[1]\n",
    "p hash[2]  #=> nil  это значит, что объект отсутствует\n",
    "p array[1]\n",
    "p array[2]"
   ]
  },
  {
   "cell_type": "markdown",
   "id": "2e8543d3",
   "metadata": {},
   "source": [
    "Пример: посчитать сколько раз каждое число повторяется в данном целочисленном массиве"
   ]
  },
  {
   "cell_type": "code",
   "execution_count": 4,
   "id": "503fe034",
   "metadata": {},
   "outputs": [
    {
     "name": "stdout",
     "output_type": "stream",
     "text": [
      "[[1, 3], [2, 4], [3, 1], [4, 1], [5, 1]]\n"
     ]
    },
    {
     "data": {
      "text/plain": [
       "{1=>3, 2=>4, 3=>1, 4=>1, 5=>1}"
      ]
     },
     "execution_count": 4,
     "metadata": {},
     "output_type": "execute_result"
    }
   ],
   "source": [
    "array = [1, 2, 1, 2, 3, 2, 1, 2, 4, 5]\n",
    "\n",
    "# Решение с помощью массива\n",
    "\n",
    "p array.uniq.map{ |i| [i, array.find_all{ |j| j == i }.size] } \n",
    "\n",
    "# Решение с помощью хэша\n",
    "# Здесь Hash.new{0}, означает - создадим пустой хеш, в котором\n",
    "# любому несуществующему ключу будет соответствовать 0\n",
    "# комбинация result[i] += 1 имеет в качестве результата целое число \n",
    "# (учитывая, что массив целочисленный), а не хеш. \n",
    "# Следовательно, параметру result автоматически будет присвоено целое число \n",
    "# На следующей итерации мы будем обращаться к result, как к хешу, \n",
    "# хотя там уже будет храниться число.\n",
    "\n",
    "array = [1, 2, 1, 2, 3, 2, 1, 2, 4, 5]\n",
    "array.inject(Hash.new{ 0 }){ |result, i|\n",
    "    result[i] += 1\n",
    "    result\n",
    "} "
   ]
  },
  {
   "cell_type": "markdown",
   "id": "b05aa764",
   "metadata": {},
   "source": [
    "Второй случай применимости хеша: если требуется подсчитать число элементов массива, то целессобразнее применять хеш. Вместо подсчета количества, можно использовать конкатенацию массивов или строк. Но это уже более сложные задачи."
   ]
  },
  {
   "cell_type": "code",
   "execution_count": null,
   "id": "7f5f4e19",
   "metadata": {},
   "outputs": [],
   "source": [
    "hash = {\"comp1.mydomen.ru\"=>\"192.168.0.3\", \n",
    "        \"comp2.mydomen.ru\"=>\"192.168.0.1\",\n",
    "        \"comp3.mydomen.ru\"=>\"192.168.0.2\"}\n",
    "hash[\"comp1.mydomen.ru\"] # Нет ни одного итератора и не сделано ни одной «пробежки» по массиву."
   ]
  },
  {
   "cell_type": "markdown",
   "id": "73d535dc",
   "metadata": {},
   "source": [
    "Третий случай применимости хеша: когда требуется сопоставить один набор данных с другим, то целесообразнее использовать хеш.\n",
    "\n",
    "существуют и другие случаи применимости хеша, но вероятность столкнуться с ними в реальной работе намного меньше"
   ]
  },
  {
   "cell_type": "markdown",
   "id": "81f16931",
   "metadata": {},
   "source": [
    "**Методы работы с ассоциативными массивами**"
   ]
  },
  {
   "cell_type": "markdown",
   "id": "3817aeb0",
   "metadata": {},
   "source": [
    "Получение массива значений и массива ключей\n",
    "\n",
    "могут иметь любой порядок элементов!"
   ]
  },
  {
   "cell_type": "code",
   "execution_count": 14,
   "id": "abad0314",
   "metadata": {},
   "outputs": [
    {
     "data": {
      "text/plain": [
       "[4, 3, 2]"
      ]
     },
     "execution_count": 14,
     "metadata": {},
     "output_type": "execute_result"
    }
   ],
   "source": [
    "{1=>4, 5=>3, 2=>2}.keys      #=> [1, 2, 5]\n",
    "{1=>4, 5=>3, 2=>2}.values    #=> [4, 3, 2]"
   ]
  },
  {
   "cell_type": "markdown",
   "id": "4b008dd5",
   "metadata": {},
   "source": [
    "**Замена ключей на значения**\n",
    "\n",
    "ключи с одинаковыми значениями будут отброшены"
   ]
  },
  {
   "cell_type": "code",
   "execution_count": 16,
   "id": "79f650af",
   "metadata": {},
   "outputs": [
    {
     "data": {
      "text/plain": [
       "{\"зарплата\"=>1260}"
      ]
     },
     "execution_count": 16,
     "metadata": {},
     "output_type": "execute_result"
    }
   ],
   "source": [
    "hash.invert \n"
   ]
  },
  {
   "cell_type": "markdown",
   "id": "157daf52",
   "metadata": {},
   "source": [
    "**Обновление пары** - метод `.update`\n",
    "\n",
    "Пример. Найти сколько раз повторяется каждое число"
   ]
  },
  {
   "cell_type": "code",
   "execution_count": 17,
   "id": "f9cf158c",
   "metadata": {},
   "outputs": [
    {
     "data": {
      "text/plain": [
       "{1=>3, 2=>4, 3=>1, 4=>1, 5=>1}"
      ]
     },
     "execution_count": 17,
     "metadata": {},
     "output_type": "execute_result"
    }
   ],
   "source": [
    "array = [1, 2, 1, 2, 3, 2, 1, 2, 4, 5]\n",
    "array.inject({}){ |result, i| result.update({i=>1}){ |key, old, new| old + new } }\n",
    "\n",
    "# {i=>1} это хэш, ключ его хранится в переменной i (счётчик итератора .inject),\n",
    "# а в качестве значения выбрана единица.\n",
    "# Можно «сократить» фигурные скобки и записать i=>1.\n",
    "# Счётчик итератора — это переменная \n",
    "# в которую итератор записывает текущий элемент последовательности.\n",
    "# В переменную key передаётся значение текущего ключа, \n",
    "# в old — старое значение ключа, а в переменную new — добавляемое значение ключа\n",
    "# таким образом old + new означает -  в случае обнаружения ключа в хеше, \n",
    "# нам необходимо сложить старое значение с новым.\n",
    "# новое значение равняется единице, то есть в случае когда ключ,\n",
    "# хранимый в i уже есть в хеше result, то к старому значению просто добавляется единица. "
   ]
  },
  {
   "cell_type": "markdown",
   "id": "459faeaa",
   "metadata": {},
   "source": [
    "**Слияние двух массивов** - метод `.merge` или `.merge!`\n",
    "\n",
    "Если во втором массиве ключ будет совпадать с каким-либо ключем из первого массива, значение будет заменено на значение из второго массива."
   ]
  },
  {
   "cell_type": "code",
   "execution_count": 18,
   "id": "7e5d1834",
   "metadata": {},
   "outputs": [
    {
     "data": {
      "text/plain": [
       "{3=>\"a\", 4=>\"c\", 5=>\"r\", 7=>\"t\"}"
      ]
     },
     "execution_count": 18,
     "metadata": {},
     "output_type": "execute_result"
    }
   ],
   "source": [
    "hash1 = {3 => \"a\", 4 => \"c\"}\n",
    "hash2 = {5 => \"r\", 7 => \"t\"}\n",
    "hash1.merge!(hash2)   "
   ]
  },
  {
   "cell_type": "markdown",
   "id": "a58325f5",
   "metadata": {},
   "source": [
    "**Размер ассоциативного массива**\n",
    "  \n",
    "если в индексных массивах под размером понимается количество элементов, то в ассоциативном массиве это количество пар вида ключ=>значение. В остальном же это наш старый добрый `.size`"
   ]
  },
  {
   "cell_type": "markdown",
   "id": "a0d9bb45",
   "metadata": {},
   "source": [
    "**Удаление пары по ключу** - метод `.delete`\n",
    " \n",
    "**Удаление произвольной пары** - `.shift` Помните, что ассоциативные массивы неупорядоченны."
   ]
  },
  {
   "cell_type": "markdown",
   "id": "c2c93958",
   "metadata": {},
   "source": [
    "**Преобразовать в индексный массив** - метод `to_a`  Сперва пары (ключ=>значение) преобразуются в массив. Затем «стрелку» заменяем на запятую"
   ]
  },
  {
   "cell_type": "markdown",
   "id": "d6695a49",
   "metadata": {},
   "source": [
    "**Упорядочение хеша**  - `.sort_by` - результат будет не хешем, а двумерным массивом"
   ]
  },
  {
   "cell_type": "code",
   "execution_count": 20,
   "id": "7bacd067",
   "metadata": {},
   "outputs": [
    {
     "data": {
      "text/plain": [
       "[[\"гаечный ключ\", 4], [\"разводной ключ\", 10]]"
      ]
     },
     "execution_count": 20,
     "metadata": {},
     "output_type": "execute_result"
    }
   ],
   "source": [
    "hash = {\"гаечный ключ\"=>4, \"разводной ключ\"=>10}\n",
    "hash.sort_by{ |key, value| value } #=> [[\"гаечный ключ\", 4], [\"разводной ключ\", 10]]\n",
    "# Здесь мы упорядочили хеш по значению.\n",
    "# Сначала хеш упорядочивается по ключам, \n",
    "# а потом, в случаях равнозначных ключей при использовании sort_by, — по значениям."
   ]
  },
  {
   "cell_type": "markdown",
   "id": "39c9c1c1",
   "metadata": {},
   "source": [
    "**Поиск максимальной/минимальной пары**"
   ]
  },
  {
   "cell_type": "code",
   "execution_count": 21,
   "id": "b96b697e",
   "metadata": {},
   "outputs": [
    {
     "data": {
      "text/plain": [
       "[\"гаечный ключ\", 10]"
      ]
     },
     "execution_count": 21,
     "metadata": {},
     "output_type": "execute_result"
    }
   ],
   "source": [
    "hash = {\"гаечный ключ\"=>10, \"разводной ключ\"=>22}\n",
    "hash.max    #=> [\"разводной ключ\", 22]\n",
    "hash.min    #=> [\"гаечный ключ\"  , 10]\n",
    "hash.max_by{ |key, value| value }                    #=> [\"разводной ключ\", 22]\n",
    "hash.min_by{ |array| array[0] }                      #=> [\"гаечный ключ\"  , 10]"
   ]
  },
  {
   "cell_type": "markdown",
   "id": "a556db80",
   "metadata": {},
   "source": [
    "**Логические методы**"
   ]
  },
  {
   "cell_type": "markdown",
   "id": "2c991b59",
   "metadata": {},
   "source": [
    "**Хеш пустой?** - `.empty?`\n",
    "\n",
    "**Есть такой ключ?**  - `key?`, `.include?`, `.member?`, `.has_key?`"
   ]
  },
  {
   "cell_type": "code",
   "execution_count": null,
   "id": "f4954420",
   "metadata": {},
   "outputs": [],
   "source": [
    "pocket = {\"гаечный\"=>20, \"замочный\"=>\"английский\", \"разводной\"=>34}\n",
    "pocket.key?(\"гаечный\")    #=> true\n",
    "pocket.keys.include?(\"гаечный\")    #=> true\n",
    "pocket.include?(\"гаечный\")    #=> true "
   ]
  },
  {
   "cell_type": "markdown",
   "id": "f87837d4",
   "metadata": {},
   "source": [
    "**Есть такое значение?**"
   ]
  },
  {
   "cell_type": "code",
   "execution_count": null,
   "id": "7384a417",
   "metadata": {},
   "outputs": [],
   "source": [
    "pocket.values.include?(\"гаечный\")       #=> false \n",
    "pocket.values.include?(\"английский\")    #=> true\n",
    "pocket.value?(\"английский\")    #=> true"
   ]
  },
  {
   "cell_type": "markdown",
   "id": "f6bead4b",
   "metadata": {},
   "source": [
    "**Итераторы**\n",
    "\n",
    "- `.find_all` — поиск всех элементов, которые удовлетворяют логическому условию;\n",
    "- `.map` — изменение всех элементов по некоторому алгоритму;\n",
    "- `.inject` — сложение, перемножение и агрегация элементов массива.\n",
    "Набор итераторов точно такой же, как и у индексных массивов, только ведут себя они несколько иначе:\n",
    "- Результатом является двумерный массив (как после метода .to_a).\n",
    "- В качестве счётчика (переменной в фотографии) передаётся массив вида [ключ, значение].\n",
    "- Можно развернуть массив вида [ключ, значение] в две переменные.\n",
    "- В итераторе `.inject` развернуть массив не получится."
   ]
  },
  {
   "cell_type": "code",
   "execution_count": null,
   "id": "8eb372b1",
   "metadata": {},
   "outputs": [],
   "source": [
    "hash = {\"гаечный ключ\"=>4, \"разводной ключ\"=>10}\n",
    "\n",
    "hash.find_all{ |array| array[1] < 5 }\n",
    "    #=> [[\"гаечный ключ\", 4]]\n",
    "\n",
    "hash.map { |array| \"#{array[0]} на #{array[1]}\" }\n",
    "    #=> [\"гаечный ключ на 4\", \"разводной ключ на 10\"]\n",
    "\n",
    "hash.inject(0){ |result, array| result + array[1] }\n",
    "    #=> 14\n",
    "\n",
    "# в качестве счётчика передаётся массив из двух элементов\n",
    "\n",
    "# как можно развернуть array в две переменные. \n",
    "# Делается это простой заменой array на key, value\n",
    "\n",
    "hash = {\"гаечный ключ\"=>4, \"разводной ключ\"=>10}\n",
    "\n",
    "hash.find_all{ |key, value| value < 5 }\n",
    "    #=> [[\"гаечный ключ\", 4]]\n",
    "\n",
    "hash.map{ |key, value| \"#{key} на #{value}\" }\n",
    "    #=> [\"гаечный ключ на 4\", \"разводной ключ на 10\"]\n",
    "\n",
    "hash.inject(0){ |result, key, value| result + value }\n",
    "    #=> Ошибка в методе \"+\": невозможно сложить nil и число типа Fixnum\n",
    "# развернуть массив не удалось, и теперь он стал называться не array, а key. \n",
    "# Переменной value присвоилось значение nil. \n",
    "# Чтобы это исправить, достаточно поставить круглые скобки:\n",
    "hash.inject(0){ |result, (key, value)| result + value }\n",
    "    #=> 14"
   ]
  },
  {
   "cell_type": "markdown",
   "id": "3f3331a9",
   "metadata": {},
   "source": [
    "Ассоциативный массив, как и индексный массив, имеет метод `.map`, который передаёт замыканию ключ и соответствующее ему значение. При этом в замыкание на самом деле передаётся массив с ключом и значением, но Ruby «разворачивает» их в две переменные при передаче замыканию.\n",
    "\n",
    "Итератор `.map`, в свою очередь, возвращает индексный массив с результатами замыкания — по элементу массива на каждый ключ:"
   ]
  },
  {
   "cell_type": "code",
   "execution_count": null,
   "id": "bc35ab33",
   "metadata": {},
   "outputs": [],
   "source": [
    "hash = {\"гаечный ключ\"=>4, \"разводной ключ\"=>10}\n",
    "hash.map { | key, value | \"#{key} на #{value}\" }\n",
    "#=> [\"гаечный ключ на 4\", \"разводной ключ на 10\"]\n",
    "hash.map                                       \n",
    "#=> [[\"гаечный ключ\", 4], [\"разводной ключ\", 10]]"
   ]
  },
  {
   "cell_type": "markdown",
   "id": "50fcc643",
   "metadata": {},
   "source": [
    "Итератор `.map`, вызванный без аргументов, аналогичен методу `.to_a`: просто раскладывает хеш в двумерный массив."
   ]
  },
  {
   "cell_type": "markdown",
   "id": "79997539",
   "metadata": {},
   "source": [
    "### Строки"
   ]
  },
  {
   "cell_type": "code",
   "execution_count": 8,
   "id": "3d7f42af",
   "metadata": {},
   "outputs": [
    {
     "name": "stdout",
     "output_type": "stream",
     "text": [
      "Максимальный элемент массива = 7\n",
      "123 в двоичном виде: 1111011\n",
      "123 в двоичном виде: 1111011\n"
     ]
    }
   ],
   "source": [
    "array = [4, 4, 2, 5, 2, 7]\n",
    "puts \"Максимальный элемент массива = #{array.max}\" \n",
    "\n",
    "number = 123\n",
    "puts \"#{number} в двоичном виде: %b\" % number  # метод %, осуществляет форматирование строки́\n",
    "puts \"#{number} в двоичном виде: #{number.to_s(2)}\" # другой способ"
   ]
  },
  {
   "cell_type": "code",
   "execution_count": 12,
   "id": "c85b3f79",
   "metadata": {},
   "outputs": [
    {
     "data": {
      "text/plain": [
       "10"
      ]
     },
     "execution_count": 12,
     "metadata": {},
     "output_type": "execute_result"
    }
   ],
   "source": [
    "cuckoo_talk = \"Ку-ку! Ку-ку! Ку-ку! Ку-ку! Ку-ку! Ку-ку! Ку-ку! … Ку-ку! Ку-ку! \"\n",
    "(cuckoo_talk.split(\" \")).size    #=> 10 - разделение строки"
   ]
  },
  {
   "cell_type": "markdown",
   "id": "d29994ad",
   "metadata": {},
   "source": [
    "**Преобразование строки в массив** - метод `.split` **и обратно** - метод `.join`"
   ]
  },
  {
   "cell_type": "code",
   "execution_count": 21,
   "id": "e640ebf3",
   "metadata": {},
   "outputs": [
    {
     "name": "stdout",
     "output_type": "stream",
     "text": [
      "[\"строка\", \"строка\", \"строка\", \"строка\"]\n",
      "[\"стро\", \" стро\", \" стро\", \" стро\"]\n",
      "\"стро- стро- стро- стро\"\n",
      "\"строка строка строка стро\"\n"
     ]
    },
    {
     "data": {
      "text/plain": [
       "\"стро стро стро стро\""
      ]
     },
     "execution_count": 21,
     "metadata": {},
     "output_type": "execute_result"
    }
   ],
   "source": [
    "strings = \"строка строка строка строка\"\n",
    "p strings.split(' ')\n",
    "p array = strings.split('ка')\n",
    "p array.join('-') \n",
    "p array.join('ка') \n",
    "array.join # без указания разделителя работает также как .to_s"
   ]
  },
  {
   "cell_type": "markdown",
   "id": "b6b22c83",
   "metadata": {},
   "source": [
    "**Получение подстрок** работает точно также, как и получение подмассива"
   ]
  },
  {
   "cell_type": "code",
   "execution_count": 35,
   "id": "4554a433",
   "metadata": {},
   "outputs": [
    {
     "name": "stdout",
     "output_type": "stream",
     "text": [
      "\"большая строка!\"\n",
      "\"большая строка\"\n",
      "\"строка\"\n",
      "\"а\"\n",
      "\"к\"\n"
     ]
    },
    {
     "data": {
      "text/plain": [
       "\"к\""
      ]
     },
     "execution_count": 35,
     "metadata": {},
     "output_type": "execute_result"
    }
   ],
   "source": [
    "string = \"небольшая строка!\"\n",
    "p string[2..-1] # разные диапазоны\n",
    "p string[2...-1] \n",
    "# Отрицательная нумерация как и в массивах, последний элемент индекс -1, \n",
    "# предпоследний -2 и т.д.p string[2...-1]\n",
    "\n",
    "p string[10..15]\n",
    "p string[15..15] # получить один символ\n",
    "p string[15]     # либо так в новых версиях\n"
   ]
  },
  {
   "cell_type": "markdown",
   "id": "2c3c0636",
   "metadata": {},
   "source": [
    "Ещё примеры"
   ]
  },
  {
   "cell_type": "code",
   "execution_count": 39,
   "id": "053a6ce9",
   "metadata": {},
   "outputs": [
    {
     "name": "stdout",
     "output_type": "stream",
     "text": [
      "\".дракулА\"\n",
      "\"мыло в мешке\"\n",
      "\"шить и мыло\"\n",
      "\"шить и мыть\"\n",
      "2\n"
     ]
    },
    {
     "data": {
      "text/plain": [
       "2"
      ]
     },
     "execution_count": 39,
     "metadata": {},
     "output_type": "execute_result"
    }
   ],
   "source": [
    "p \"Алукард.\".reverse # обратить строку. \n",
    "# В массивах .reverse меняет порядок элементов, а в строках — символов.\n",
    "p \"шило в мешке\".sub(\"шило\", \"мыло\") # заменить - производит только одну замену\n",
    "p \"шило и мыло\".sub(\"ло\", \"ть\") # производит только одну замену substitute\n",
    "\n",
    "p \"шило и мыло\".gsub(\"ло\", \"ть\") # меняет всё global substitute\n",
    "\n",
    "\"шило и мыло\".scan(\"ло\").size # подсчитать число вхождений\n"
   ]
  },
  {
   "cell_type": "markdown",
   "id": "cb2e4bbd",
   "metadata": {},
   "source": [
    "**Правила (регулярные выражения) работы со строками**\n",
    "\n",
    "``\n",
    "Сокращенно Полная запись       Описание\n",
    "\\s\t       [\\f\\t\\n\\r]\t      Пробельный символ\n",
    "\\S\t       [^\\f\\t\\n\\r]\t      Любой символ, кроме пробельного\n",
    "\\d\t       [0-9]\t          Цифра\n",
    "\\D\t       [^0-9]\t          Любой символ, кроме цифры\n",
    "\\w\t       [a-zA-Z0-9]\t      Латиница или цифра\n",
    "\\W\t       [^a-zA-Z0-9]\t      Любой символ, кроме латиницы или цифры\n",
    ".\t       [^\\n\\r]\t          Любой символ, кроме перевода строки\n",
    "\\b\t    \tГраница слова\n",
    "\\B\t    \tНе граница слова\n",
    "\\A\t    \tНачало строки\n",
    "\\Z\t    \tКонец строки\n",
    "``\n",
    "\n",
    "**Квантификатор** - Показывает, сколько раз может повторяться предыдущий символ, группа, альтернатива, etc. Квантификатор ограничивается фигурными скобками.\n",
    "\n",
    "- Квантификатор с одним параметром называется точным и указывает точное количество повторений.\n",
    "- Квантификатор с двумя агрументами называется конечным и указывает конечный диапазон, в котором варьируется количество повторений.\n",
    "- Квантификатор без второго параметра (но с запятой) называется бесконечным и ограничивает количество повторений лишь снизу.\n",
    "\n",
    "Некоторые популярные квантификаторы имеют короткую запись:\n",
    "\n",
    "\n",
    "``*\t{0, }\tЛюбое количество``\n",
    "\n",
    "``+\t{1, }\tОдин и более``\n",
    "\n",
    "``?\t{0, 1}\tЕсть или нет``\n",
    "\n",
    "**Альтернатива** нужна, когда необходимо объединить несколько правил в одно. При этом совпадение засчитывается, когда есть совпадение хотя бы с одним правилом. Желательно альтернативу заключать внутрь группировки (круглые скобки). Правила, входящие в альтернативу, разделяются `|`\n",
    "Вместо альтернативы можно задействовать логические итераторы `.any?` и `.all?` внутри `.inject`. Получается более гибкая конструкция.\n",
    "\n",
    "**Группировка** используется, когда необходимо обрабатывать результат частями. Например, при обработке ссылок в HTML-документе\n",
    "Доступ к результату совпадения каждой группировки осуществляется посредством специальных переменных `$1, $2, …, $9`\n",
    "\n",
    "**Фиксирующие директивы** — это символы, которые привязывают правило к некоторому признаку. Например, к концу или началу строки.\n",
    "\n",
    "`^` — привязка к началу строки,\n",
    "`$` — привязка к концу строки.\n",
    "\n",
    "**Модификатор** предназначен для изменения поведения правила. Он размещается сразу же после правила (после последней наклонной черты).\n",
    "\n",
    "Бывают следующие модификаторы:\n",
    "\n",
    "- **m**ultiline — перенос строки считается простым символом,\n",
    "- **i**gnorcase — поиск без учёта регистра,\n",
    "- e**x**tended — игнорировать пробельные символы.\n",
    "Игнорирование регистра работает только для латиницы.\n",
    "\n",
    "Можно применять любое количество модификаторов и в любом порядке.\n",
    "Обратите внимание, что модификаторы образуют слово mix.\n",
    "\n",
    "**Примеры:**"
   ]
  },
  {
   "cell_type": "code",
   "execution_count": 46,
   "id": "16702030",
   "metadata": {},
   "outputs": [
    {
     "name": "stdout",
     "output_type": "stream",
     "text": [
      "[\"Раз\", \"два\", \"три\"]\n",
      "\"Жило-было шибко шипящее животное\"\n",
      "\"Жило-было шибко шипящее животное\"\n",
      "\"Рза, авд, ирт!\"\n",
      "[\"Раз\", \"два\", \"три\"]\n",
      "[\", \", \", \", \"!\"]\n",
      "[\"nata@rambler.ru\"]\n",
      "[]\n",
      "[\"Раз, два, три!\"]\n"
     ]
    },
    {
     "data": {
      "text/plain": [
       "[\"Раз, два, три!\"]"
      ]
     },
     "execution_count": 46,
     "metadata": {},
     "output_type": "execute_result"
    }
   ],
   "source": [
    "# разбить текст по знакам препинания\n",
    "p \"Раз, два, три!\".split(/[, \\.?!]+/)    #=> [\"Раз\", \"два\", \"три\"]\n",
    "# в результирующем массиве знаки препинания отсутствуют.\n",
    "\n",
    "# Заменить жы-шы на жи-ши\n",
    "p \"Жыло-было шыбко шыпящее жывотное\".gsub(/(Ж|Ш|ж|ш)ы/){ $1 + \"и\" }\n",
    "    #=> \"Жило-было шибко шипящее животное\"\n",
    "# Альтернативное решение\n",
    "p \"Жыло-было шыбко шыпящее жывотное\".gsub(/([ЖШжш])ы/){ $1 + \"и\" }\n",
    "\n",
    "p \"Раз, два, три!\".gsub(/[а-я]+/){ |word| word.reverse } #=> \"заР, авд, ирт!\"\n",
    "\n",
    "# массив всех русских слов в тексте\n",
    "p \"Раз, два, two, три!\".scan(/[А-Яа-я]+/)    #=> [\"Раз\", \"два\", \"три\"]\n",
    "\n",
    "# получить все знаки препинания\n",
    "p \"Раз, два, три!\".scan(/[, \\.;:!]+/)    #=> [\", \", \", \", \"!\"]\n",
    "\n",
    "# \"Раз, два, три!\".scan(/[, \\.;:!]+/)    #=> [\", \", \", \", \"!\"]\n",
    "string = \"495-506-13 56 nata@rambler.ru(34) 1.5.1232 12.14.56 31.декабря.9999\"\n",
    "p string.scan(/(?:[-a-z_\\d])+@(?:[-a-z])*(?:\\.[a-z]{2,4})+/)    #=> [\"nata@rambler.ru\"]\n",
    "\n"
   ]
  },
  {
   "cell_type": "code",
   "execution_count": null,
   "id": "746286dc",
   "metadata": {},
   "outputs": [],
   "source": []
  }
 ],
 "metadata": {
  "kernelspec": {
   "display_name": "Ruby 2.7.3",
   "language": "ruby",
   "name": "ruby"
  },
  "language_info": {
   "file_extension": ".rb",
   "mimetype": "application/x-ruby",
   "name": "ruby",
   "version": "2.7.3"
  }
 },
 "nbformat": 4,
 "nbformat_minor": 5
}
