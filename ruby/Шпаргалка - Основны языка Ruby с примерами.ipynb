{
 "cells": [
  {
   "cell_type": "markdown",
   "id": "cd04a6b4",
   "metadata": {},
   "source": [
    "# Шпаргалка - Основы языка Ruby с примерами"
   ]
  },
  {
   "cell_type": "markdown",
   "id": "f44a60a5",
   "metadata": {},
   "source": [
    "Примечание: Ruby Kernel for Jupyter Notebook https://github.com/sciruby/iruby"
   ]
  },
  {
   "cell_type": "code",
   "execution_count": 1,
   "id": "f9dacb7d",
   "metadata": {
    "collapsed": true
   },
   "outputs": [
    {
     "name": "stdout",
     "output_type": "stream",
     "text": [
      "Hello, Мир!\n"
     ]
    }
   ],
   "source": [
    "puts \"Hello, Мир!\""
   ]
  },
  {
   "cell_type": "markdown",
   "id": "3d06d2f6",
   "metadata": {},
   "source": [
    "## Вывод"
   ]
  },
  {
   "cell_type": "markdown",
   "id": "3be072a9",
   "metadata": {},
   "source": [
    "метод puts, если на входе не строка, puts вызывает метод `.to_s` для преобразования его к строке"
   ]
  },
  {
   "cell_type": "markdown",
   "id": "a1488d3b",
   "metadata": {},
   "source": [
    "`p` = `.inspect`"
   ]
  },
  {
   "cell_type": "code",
   "execution_count": 10,
   "id": "f1991791",
   "metadata": {},
   "outputs": [
    {
     "name": "stdout",
     "output_type": "stream",
     "text": [
      "Hello\n",
      "1\n",
      "2\n",
      "3\n",
      "\"Hello\"\n",
      "[1, 2, 3]\n"
     ]
    },
    {
     "data": {
      "text/plain": [
       "[1, 2, 3]"
      ]
     },
     "execution_count": 10,
     "metadata": {},
     "output_type": "execute_result"
    }
   ],
   "source": [
    "puts \"Hello\"\n",
    "puts [1, 2, 3]\n",
    "\n",
    "p \"Hello\"\n",
    "p [1, 2, 3]"
   ]
  },
  {
   "cell_type": "markdown",
   "id": "473156b0",
   "metadata": {},
   "source": [
    "## Переменные"
   ]
  },
  {
   "cell_type": "markdown",
   "id": "6ca41114",
   "metadata": {},
   "source": [
    "Переменная указывает на объект. Хотя в большинстве случаев, клонировние объекта производится автоматически, иногда могуть возникать проблемы из-за этой особенности. Например:"
   ]
  },
  {
   "cell_type": "code",
   "execution_count": 4,
   "id": "5f580c38",
   "metadata": {
    "scrolled": false
   },
   "outputs": [
    {
     "name": "stdout",
     "output_type": "stream",
     "text": [
      "\"Кит\"\n"
     ]
    },
    {
     "data": {
      "text/plain": [
       "\"Кит\""
      ]
     },
     "execution_count": 4,
     "metadata": {},
     "output_type": "execute_result"
    }
   ],
   "source": [
    "first = \"Кот\"\n",
    "second = first\n",
    "second[1]=\"и\" # Меняется объект, а значит и вторая, и первая переменные\n",
    "p first # Обе переменные указывают на один объект\n",
    "second"
   ]
  },
  {
   "cell_type": "markdown",
   "id": "2432d558",
   "metadata": {},
   "source": [
    "Если нужно изменить объект, но сохранить копию оригинала, можно копировать объект с помощью методов `.clone` или `.dup`\n",
    "Разница между ними https://www.rubyguides.com/2018/11/dup-vs-clone/"
   ]
  },
  {
   "cell_type": "code",
   "execution_count": 5,
   "id": "d9fca1ba",
   "metadata": {},
   "outputs": [
    {
     "name": "stdout",
     "output_type": "stream",
     "text": [
      "\"Кот\"\n"
     ]
    },
    {
     "data": {
      "text/plain": [
       "\"Кит\""
      ]
     },
     "execution_count": 5,
     "metadata": {},
     "output_type": "execute_result"
    }
   ],
   "source": [
    "first = \"Кот\"\n",
    "second = first.clone # Создаём второй объект из первого.\n",
    "second[1]=\"и\" # Меняется второй объект, а значит только вторая переменная\n",
    "p first # Первый объект не изменился\n",
    "second"
   ]
  },
  {
   "cell_type": "markdown",
   "id": "25c30cdf",
   "metadata": {},
   "source": [
    "Типы переменных"
   ]
  },
  {
   "cell_type": "code",
   "execution_count": 11,
   "id": "b620451f",
   "metadata": {},
   "outputs": [
    {
     "data": {
      "text/plain": [
       "5"
      ]
     },
     "execution_count": 11,
     "metadata": {},
     "output_type": "execute_result"
    }
   ],
   "source": [
    "something =  1\n",
    "_something =  1\n",
    "# локальные - доступны только внутри блока где были инициализированы или ниже, недоступны выше\n",
    "\n",
    "@something = 2 # инстансная (переменная экземпляра) \n",
    "#- принадлежит объекту, который является классом\n",
    "# Чтобы определить переменные экземпляра для объектов, принадлежащих классу,\n",
    "# используйте @ внутри initialize()\n",
    "\n",
    "@@something = 3 # переменная класса, она доступны всем экземплярам класса\n",
    "# и может быть переопределена ниже, если используется такое же имя.\n",
    "\n",
    "Something =  4 # константа\n",
    "SOMETHING =  5 # константа\n",
    "$something = 6 # глобальная"
   ]
  },
  {
   "cell_type": "markdown",
   "id": "2a5b12f7",
   "metadata": {},
   "source": [
    "Скобки и двоеточия не требуются, но могут быть использованы.\n",
    "\n",
    "Базовые правила:\n",
    "- Скобки не нужны для метода без аргументов => `def foo`\n",
    "- Скобки используются если есть аргументы => `def foo(a, b, c)`\n",
    "- Скобки нужны для определния приоритета => `(a.size + b.size) * 2`"
   ]
  },
  {
   "cell_type": "markdown",
   "id": "d5dac42d",
   "metadata": {},
   "source": [
    "Поскольку управляющие структуры также являются выражениями, возможны такие присваивания"
   ]
  },
  {
   "cell_type": "code",
   "execution_count": 16,
   "id": "716848f8",
   "metadata": {},
   "outputs": [
    {
     "data": {
      "text/plain": [
       "false"
      ]
     },
     "execution_count": 16,
     "metadata": {},
     "output_type": "execute_result"
    }
   ],
   "source": [
    "foo = case 0\n",
    "       when 1\n",
    "         true\n",
    "       else\n",
    "         false\n",
    "       end\n",
    "\n",
    "foo"
   ]
  },
  {
   "cell_type": "markdown",
   "id": "71afb7ea",
   "metadata": {},
   "source": [
    "**Тернарный оператор**"
   ]
  },
  {
   "cell_type": "code",
   "execution_count": 66,
   "id": "27bc6414",
   "metadata": {},
   "outputs": [
    {
     "data": {
      "text/plain": [
       "\"no\""
      ]
     },
     "execution_count": 66,
     "metadata": {},
     "output_type": "execute_result"
    }
   ],
   "source": [
    "false ? \"yes\" : \"no\""
   ]
  },
  {
   "cell_type": "markdown",
   "id": "455d24d4",
   "metadata": {},
   "source": [
    "## Базовые типы данных"
   ]
  },
  {
   "cell_type": "markdown",
   "id": "e036ae03",
   "metadata": {},
   "source": [
    "### Числа"
   ]
  },
  {
   "cell_type": "code",
   "execution_count": 7,
   "id": "02b4b7f5",
   "metadata": {},
   "outputs": [
    {
     "name": "stdout",
     "output_type": "stream",
     "text": [
      "62\n",
      "2\n",
      "137\n"
     ]
    },
    {
     "data": {
      "text/plain": [
       "123456"
      ]
     },
     "execution_count": 7,
     "metadata": {},
     "output_type": "execute_result"
    }
   ],
   "source": [
    "p 076 # восьмеричное число 62\n",
    "p 0b010 # двоичное число 2\n",
    "p 0x89 # шестнадцатеричное число 137\n",
    "123_456 # подчеркивание игнорируется"
   ]
  },
  {
   "cell_type": "markdown",
   "id": "2da0e733",
   "metadata": {},
   "source": [
    "операции получение остатка от деления: `%`, возведение в степень: `**`"
   ]
  },
  {
   "cell_type": "markdown",
   "id": "bbf6d80b",
   "metadata": {},
   "source": [
    "Пример, **перевести число в двоичную форму**"
   ]
  },
  {
   "cell_type": "code",
   "execution_count": null,
   "id": "6e625bdc",
   "metadata": {},
   "outputs": [],
   "source": [
    "p sprintf(\"%b\", 5)    # метод sprintf заимствован из Си\n",
    "p 5.to_s(2) # перевести в строку по основанию 2 (можно использовать любое основание до 36)"
   ]
  },
  {
   "cell_type": "markdown",
   "id": "2554b0fe",
   "metadata": {},
   "source": [
    "Пример, **поменять две переменные местами без использования третьей вспомогательной**"
   ]
  },
  {
   "cell_type": "code",
   "execution_count": 9,
   "id": "48cef5b6",
   "metadata": {},
   "outputs": [
    {
     "name": "stdout",
     "output_type": "stream",
     "text": [
      "1\n",
      "2\n",
      "2\n",
      "1\n"
     ]
    },
    {
     "data": {
      "text/plain": [
       "[2, 1]"
      ]
     },
     "execution_count": 9,
     "metadata": {},
     "output_type": "execute_result"
    }
   ],
   "source": [
    "a = 1\n",
    "b = 2\n",
    "p a,b\n",
    "a,b = b,a\n",
    "p a,b"
   ]
  },
  {
   "cell_type": "markdown",
   "id": "6702e470",
   "metadata": {},
   "source": [
    "**преобразование типов**\n",
    "\n",
    "явное `to_f`, `to_i`, `to_s`"
   ]
  },
  {
   "cell_type": "code",
   "execution_count": null,
   "id": "f4fb6fde",
   "metadata": {},
   "outputs": [],
   "source": [
    "p 123_456.to_f\n",
    "p 123_456.7.to_i\n",
    "p 123_456.to_s"
   ]
  },
  {
   "cell_type": "markdown",
   "id": "5c0ab7a7",
   "metadata": {},
   "source": [
    "### Логический тип `true` `false`"
   ]
  },
  {
   "cell_type": "markdown",
   "id": "6178d36a",
   "metadata": {},
   "source": [
    "Традиционно имена логических методов заканчиваются на `?` (знак вопроса).\n",
    "\n",
    "В качестве `false` может выступать `nil`, а в качестве `true` — любой объект.\n",
    "\n",
    "`nil` — это символ пустоты."
   ]
  },
  {
   "cell_type": "markdown",
   "id": "fc6c7a0a",
   "metadata": {},
   "source": [
    "### Массивы"
   ]
  },
  {
   "cell_type": "markdown",
   "id": "06e326d7",
   "metadata": {},
   "source": [
    "Нет динамических массивов, списков, стеков, всё реализовано методами в классе `array`\n",
    "\n",
    "Большая библиотека итераторов позволяет не использовать циклы для обработки массивов\n",
    "\n",
    "Много методов на все случаи"
   ]
  },
  {
   "cell_type": "markdown",
   "id": "8bbdee7b",
   "metadata": {},
   "source": [
    "**Создание массива**\n",
    "\n",
    "Следующие три способа самые распространенные"
   ]
  },
  {
   "cell_type": "code",
   "execution_count": 10,
   "id": "ca0c99dd",
   "metadata": {},
   "outputs": [
    {
     "name": "stdout",
     "output_type": "stream",
     "text": [
      "[\"массивы гетерогенны\", 42, [4, \"тест\"]]\n",
      "[1, 2, 3, 4, 5, 6]\n"
     ]
    },
    {
     "data": {
      "text/plain": [
       "[1, 2, 3, 4, 5, 6]"
      ]
     },
     "execution_count": 10,
     "metadata": {},
     "output_type": "execute_result"
    }
   ],
   "source": [
    "# создание массива путем перечисления элементов\n",
    "p [\"массивы гетерогенны\", 42, [4, \"тест\"]] \n",
    "\n",
    "# создание массива, через вызов метода .new класса Array\n",
    "p Array.new(6){ |index| index + 1 }    \n",
    "\n",
    "# Ещё один способ создания массива - создании объекта типа Range (диапазон) и вызове метода .to_a\n",
    "(1..6).to_a    "
   ]
  },
  {
   "cell_type": "markdown",
   "id": "74ded5b0",
   "metadata": {},
   "source": [
    "Методом `to_a` очень удобно создавать из диапазона массив, содержащий упорядоченные элементы данного диапазона."
   ]
  },
  {
   "cell_type": "code",
   "execution_count": 11,
   "id": "5b1985f4",
   "metadata": {},
   "outputs": [
    {
     "name": "stdout",
     "output_type": "stream",
     "text": [
      "[1, 2, 3, 4, 5, 6, 7, 8, 9, 10]\n"
     ]
    },
    {
     "data": {
      "text/plain": [
       "[\"a\", \"b\", \"c\", \"d\", \"e\"]"
      ]
     },
     "execution_count": 11,
     "metadata": {},
     "output_type": "execute_result"
    }
   ],
   "source": [
    "p (1..10).to_a       #=>  [1, 2, 3, 4, 5, 6, 7, 8, 9, 10]\n",
    "array = (\"a\"..\"e\").to_a    #=>  [\"a\", \"b\", \"c\", \"d\"]"
   ]
  },
  {
   "cell_type": "markdown",
   "id": "e3f5afee",
   "metadata": {},
   "source": [
    "**отрицательная индексация**"
   ]
  },
  {
   "cell_type": "code",
   "execution_count": 12,
   "id": "1251c2be",
   "metadata": {},
   "outputs": [
    {
     "name": "stdout",
     "output_type": "stream",
     "text": [
      "\"d\"\n"
     ]
    },
    {
     "data": {
      "text/plain": [
       "\"d\""
      ]
     },
     "execution_count": 12,
     "metadata": {},
     "output_type": "execute_result"
    }
   ],
   "source": [
    "p array[array.size - 2]                #=> \"d\" Аналогично нижеследующему\n",
    "array[-2]                            #=> \"d\" Такая запись короче"
   ]
  },
  {
   "cell_type": "markdown",
   "id": "f638d621",
   "metadata": {},
   "source": [
    "Для Ruby двумерный массив — это не более чем массив, содержащий одномерные массивы. Двумерность массива средствами языка не отслеживается.\n",
    "\n",
    "Элементы из двумерного массива достаются последовательно: сначала элемент-массив, потом элемент."
   ]
  },
  {
   "cell_type": "markdown",
   "id": "55e760de",
   "metadata": {},
   "source": [
    "**Поиск максимального/минимального элемента**\n",
    "\n",
    "Методы `.max` и `.max_by`, а также `.min` и `.min_by`"
   ]
  },
  {
   "cell_type": "code",
   "execution_count": 13,
   "id": "c306409b",
   "metadata": {},
   "outputs": [
    {
     "name": "stdout",
     "output_type": "stream",
     "text": [
      "\"д\"\n"
     ]
    },
    {
     "data": {
      "text/plain": [
       "\"вг\""
      ]
     },
     "execution_count": 13,
     "metadata": {},
     "output_type": "execute_result"
    }
   ],
   "source": [
    "p [\"а\", \"б\", \"вг\", \"д\", \"в\"].max                       #=> \"д\"      максимальный по значению\n",
    "[\"а\", \"б\", \"вг\", \"д\", \"в\"].max_by{ |elem| elem.size }  #=> \"вг\" максимальный по размеру строки"
   ]
  },
  {
   "cell_type": "markdown",
   "id": "3cb6b74d",
   "metadata": {},
   "source": [
    "**Упорядочение массива** - аналогично вызывается метод `.sort` или `.sort_by`"
   ]
  },
  {
   "cell_type": "markdown",
   "id": "fa9c922f",
   "metadata": {},
   "source": [
    "**Обращение массива**\n",
    "\n",
    "метод `.reverse`"
   ]
  },
  {
   "cell_type": "markdown",
   "id": "f529d01f",
   "metadata": {},
   "source": [
    "**Сложение/вычитание массивов**\n",
    "\n",
    "Конкатенация выполняется методом `+` - массив справа прицепляется, к тому, что слева.\n",
    "\n",
    "Вычитаются массивы методом `-` - Из первого массива удаляются все элементы, имеющиеся во втором, независимо от их количества. Остальные элементы остаются без изменений, сохраняют относительные позиции."
   ]
  },
  {
   "cell_type": "code",
   "execution_count": 17,
   "id": "0b7d4bf9",
   "metadata": {},
   "outputs": [
    {
     "data": {
      "text/plain": [
       "[3, 3, 3, 5]"
      ]
     },
     "execution_count": 17,
     "metadata": {},
     "output_type": "execute_result"
    }
   ],
   "source": [
    "[1, 1, 2, 2, 3, 3, 3, 4, 5] - [1, 2, 4] "
   ]
  },
  {
   "cell_type": "code",
   "execution_count": 18,
   "id": "df39d056",
   "metadata": {},
   "outputs": [
    {
     "data": {
      "text/plain": [
       "[3, 5]"
      ]
     },
     "execution_count": 18,
     "metadata": {},
     "output_type": "execute_result"
    }
   ],
   "source": [
    "[1, 2, 2, 3, 4, 5] - [1, 2, 4, 6] "
   ]
  },
  {
   "cell_type": "markdown",
   "id": "8224ecf1",
   "metadata": {},
   "source": [
    "**Объединение и пересечение массивов (как множеств)**\n",
    "\n",
    "два метода: `|` (объединение) и `&` (пересечение).\n",
    "\n",
    "В итоге пересечения или объединения множеств получается массив, не содержащий дубликатов."
   ]
  },
  {
   "cell_type": "markdown",
   "id": "a63dce35",
   "metadata": {},
   "source": [
    "Объединение - после сложения удаляются повторяющиеся элементы слева направо"
   ]
  },
  {
   "cell_type": "code",
   "execution_count": 19,
   "id": "b0acc8ed",
   "metadata": {},
   "outputs": [
    {
     "data": {
      "text/plain": [
       "[1, 2, 3, 4, 5, 6, 0, 7]"
      ]
     },
     "execution_count": 19,
     "metadata": {},
     "output_type": "execute_result"
    }
   ],
   "source": [
    "[1, 2, 3, 4, 5, 5, 6] | [0, 1, 2, 3, 4, 5, 7]"
   ]
  },
  {
   "cell_type": "markdown",
   "id": "2aa271d9",
   "metadata": {},
   "source": [
    "**метод `.uniq`** - тоже самое что объединение, удобен для одного массива. Можно представить как:"
   ]
  },
  {
   "cell_type": "code",
   "execution_count": 21,
   "id": "74586a0a",
   "metadata": {},
   "outputs": [
    {
     "data": {
      "text/plain": [
       "[1, 2, 3, 4, 5, 6, 0, 7]"
      ]
     },
     "execution_count": 21,
     "metadata": {},
     "output_type": "execute_result"
    }
   ],
   "source": [
    "([1, 2, 3, 4, 5, 5, 6] + [0, 1, 2, 3, 4, 5, 7]).uniq"
   ]
  },
  {
   "cell_type": "markdown",
   "id": "50d83df6",
   "metadata": {},
   "source": [
    "Пересечение - из первого удаляются все элементы, отсутствующие во втором. \n",
    "А из второго, отсутствующие в первом. \n",
    "При этом относительный порядок остающихся элементов первого массива сохраняется."
   ]
  },
  {
   "cell_type": "code",
   "execution_count": 20,
   "id": "cd191288",
   "metadata": {},
   "outputs": [
    {
     "data": {
      "text/plain": [
       "[1, 2, 3, 4, 5]"
      ]
     },
     "execution_count": 20,
     "metadata": {},
     "output_type": "execute_result"
    }
   ],
   "source": [
    "[1, 2, 3, 4, 5, 5, 6] & [0, 2, 1, 3, 5, 4, 7] "
   ]
  },
  {
   "cell_type": "markdown",
   "id": "1e7c39ef",
   "metadata": {},
   "source": [
    "**Сплющивание (flatten) массивов**\n",
    "\n",
    "Метод `.flatten` делает из многомерного массива простой, длинный одномерный массив"
   ]
  },
  {
   "cell_type": "markdown",
   "id": "429508a2",
   "metadata": {},
   "source": [
    "**Удаление неопределённых (nil) элементов**\n",
    "\n",
    "выполняет метод `.compact`"
   ]
  },
  {
   "cell_type": "markdown",
   "id": "b516e244",
   "metadata": {},
   "source": [
    "**Транспонирование двумерного массива** - метод `.transpose`\n",
    "\n",
    "Задача: дан двумерный массив. Вывести одномерный массив с максимумами каждого из _столбцов_.\n",
    "\n",
    "Чтобы решить задачу, нужно предварительно транспонировать массив (поменять местами строки и столбцы):"
   ]
  },
  {
   "cell_type": "code",
   "execution_count": 22,
   "id": "e9b80110",
   "metadata": {},
   "outputs": [
    {
     "data": {
      "text/plain": [
       "[3, 4]"
      ]
     },
     "execution_count": 22,
     "metadata": {},
     "output_type": "execute_result"
    }
   ],
   "source": [
    "array2D = [[1, 2], [3, 4]]\n",
    "array2D.transpose.map{ |array| array.max } "
   ]
  },
  {
   "cell_type": "markdown",
   "id": "bdbaf3c7",
   "metadata": {},
   "source": [
    "Чтобы найти максимум построчно, достаточно убрать метод `.transpose`"
   ]
  },
  {
   "cell_type": "markdown",
   "id": "18f2c7f2",
   "metadata": {},
   "source": [
    "**стек**\n",
    "\n",
    "добавить/удалить элемент в конец/из конца массива"
   ]
  },
  {
   "cell_type": "code",
   "execution_count": 27,
   "id": "e139f1c4",
   "metadata": {},
   "outputs": [
    {
     "name": "stdout",
     "output_type": "stream",
     "text": [
      "[1, 2, 3, 4, 5, 6]\n",
      "[1, 2, 3, 4, 5]\n",
      "[1, 2, 3, 4, 5, 6]\n",
      "[1, 2, 3, 4, 5, 6, 7]\n"
     ]
    },
    {
     "data": {
      "text/plain": [
       "[1, 2, 3, 4, 5, 6]"
      ]
     },
     "execution_count": 27,
     "metadata": {},
     "output_type": "execute_result"
    }
   ],
   "source": [
    "array = [1, 2, 3, 4, 5]\n",
    "array[array.size] = 6 # добавляем элемент на место с индексом размера массива (т.е. +1)\n",
    "p array   \n",
    "array = array[0...-1] # удаляем последний элемент\n",
    "p array \n",
    "array.push(6)\n",
    "p array       \n",
    "p array << 7 # еще один способ, с другим синтаксисом\n",
    "array.pop \n",
    "array"
   ]
  },
  {
   "cell_type": "markdown",
   "id": "297336da",
   "metadata": {},
   "source": [
    "**Очередь и список**\n"
   ]
  },
  {
   "cell_type": "code",
   "execution_count": 33,
   "id": "2719d848",
   "metadata": {},
   "outputs": [
    {
     "name": "stdout",
     "output_type": "stream",
     "text": [
      "[6, 1, 2, 3, 4, 5]\n",
      "[6, 6, 1, 2, 3, 4, 5]\n",
      "[6, 1, 2, 3, 4, 5]\n",
      "[6, 6, 1, 2, 3, 4, 5]\n",
      "[6, 1, 2, 3, 4, 5]\n"
     ]
    },
    {
     "data": {
      "text/plain": [
       "[1, 2, 3, 4, 5]"
      ]
     },
     "execution_count": 33,
     "metadata": {},
     "output_type": "execute_result"
    }
   ],
   "source": [
    "# добавим элемент в начало массива\n",
    "array = [1, 2, 3, 4, 5]\n",
    "\n",
    "# способ № 1\n",
    "array = [6] + array\n",
    "p array\n",
    "\n",
    "# способ № 2\n",
    "array[1..array.size] = array[0..-1] \n",
    "array[0] = 6\n",
    "p array\n",
    "\n",
    "# удалим элемент из начала массива\n",
    "array = array[1..-1]\n",
    "p array\n",
    "\n",
    "# добавляем элемент в начало массива с помощью метода .unshift\n",
    "array.unshift(6)\n",
    "p array\n",
    "\n",
    "# удаляем из начала массива\n",
    "array.shift \n",
    "p array\n",
    "array.shift # вернемся к первоначальному виду\n",
    "array"
   ]
  },
  {
   "cell_type": "markdown",
   "id": "7e85ea55",
   "metadata": {},
   "source": [
    "Таким образом - методы с параметром добавляют элемент в массив `unshift(6)`, `push(6)`, а методы без параметра — удаляют `shift`, `pop`"
   ]
  },
  {
   "cell_type": "markdown",
   "id": "7ae4ac99",
   "metadata": {},
   "source": [
    "**Логические методы**\n",
    "\n",
    "**Есть ли элемент в массиве?** - метод `.include?`, например `array.include?(required)`\n",
    "\n",
    "**Массив пустой?** - метод `.empty?`, например `array.empty?`\n",
    "\n",
    "**В Ruby принято избегать отрицания условия** поэтому метод `.any?` проверяет, заполнен ли массив - `array.any?`  "
   ]
  },
  {
   "cell_type": "markdown",
   "id": "131cc022",
   "metadata": {},
   "source": [
    "**Итераторы**\n",
    "\n",
    "Оптимизированные циклы.\n",
    "\n",
    "Примеры:\n",
    "\n",
    "Итератор `.map`, за которым следует замыкание в фигурных скобках.\n",
    "\n",
    "`.map` последовательно проходит `array` и выполняет замыкание заново для каждого элемента. То, что выходит из замыкания, итератор `.map` делает очередным элементом нового массива."
   ]
  },
  {
   "cell_type": "code",
   "execution_count": 34,
   "id": "bf0fb272",
   "metadata": {},
   "outputs": [
    {
     "name": "stdout",
     "output_type": "stream",
     "text": [
      "[0, 0, 0, 0, 0]\n"
     ]
    },
    {
     "data": {
      "text/plain": [
       "[1, 4, 9, 16, 25]"
      ]
     },
     "execution_count": 34,
     "metadata": {},
     "output_type": "execute_result"
    }
   ],
   "source": [
    "array = [1, 2, 3, 4, 5]\n",
    "p array.map{ 0 } \n",
    "array.map{ |elem| elem ** 2 } "
   ]
  },
  {
   "cell_type": "markdown",
   "id": "c755a3da",
   "metadata": {},
   "source": [
    "**Отбор элементов по признаку**\n",
    "\n",
    "`.find_all` - Выражение в замыкании для `.find_all` должно быть логическим"
   ]
  },
  {
   "cell_type": "code",
   "execution_count": 35,
   "id": "ed6b7228",
   "metadata": {},
   "outputs": [
    {
     "data": {
      "text/plain": [
       "[2, 4]"
      ]
     },
     "execution_count": 35,
     "metadata": {},
     "output_type": "execute_result"
    }
   ],
   "source": [
    "array = [1, 2, 3, 4, 5]\n",
    "array.find_all{ |elem| elem % 2 == 0 } # Находим элементы по условию. Если четный, то включаем"
   ]
  },
  {
   "cell_type": "markdown",
   "id": "6c445c90",
   "metadata": {},
   "source": [
    "Есть также методы `.zero?`, `.odd?`, `.even?` которые можно использовать для решения подобной задачи."
   ]
  },
  {
   "cell_type": "markdown",
   "id": "7058fc57",
   "metadata": {},
   "source": [
    "**Суммирование/произведение/агрегация элементов**\n",
    "\n",
    "Для этих целей традиционно используется итератор `.inject`."
   ]
  },
  {
   "cell_type": "code",
   "execution_count": 39,
   "id": "7809b023",
   "metadata": {},
   "outputs": [
    {
     "data": {
      "text/plain": [
       "120"
      ]
     },
     "execution_count": 39,
     "metadata": {},
     "output_type": "execute_result"
    }
   ],
   "source": [
    "array = [1, 2, 3, 4, 5]\n",
    "array.inject(0){ |result, elem| result + elem }\n",
    "# где 0 - начальное значение\n",
    "# result хранит промежуточное значение, elem - текущий элемент"
   ]
  },
  {
   "cell_type": "code",
   "execution_count": 40,
   "id": "2233981e",
   "metadata": {},
   "outputs": [
    {
     "data": {
      "text/plain": [
       "362880"
      ]
     },
     "execution_count": 40,
     "metadata": {},
     "output_type": "execute_result"
    }
   ],
   "source": [
    "# Пример вычисления факториала с помощью итератора .inject\n",
    "n = 9\n",
    "(1..n).to_a.inject(){ |one, two| one * two }"
   ]
  },
  {
   "cell_type": "code",
   "execution_count": 41,
   "id": "30f7fc41",
   "metadata": {},
   "outputs": [
    {
     "data": {
      "text/plain": [
       "240"
      ]
     },
     "execution_count": 41,
     "metadata": {},
     "output_type": "execute_result"
    }
   ],
   "source": [
    "# найти произведение всех положительных элементов массива\n",
    "array = [-1, -2, -3, 4, -5, 6, 10]\n",
    "array.find_all{ |elem| elem > 0 }.inject(1){|a,b| a*b }"
   ]
  },
  {
   "cell_type": "markdown",
   "id": "fad69ffb",
   "metadata": {},
   "source": [
    "**Разбиение надвое**\n",
    "\n",
    "Итератор `.partition` делит массив на две части по некоторому бинарному признаку"
   ]
  },
  {
   "cell_type": "code",
   "execution_count": 47,
   "id": "1a01bdaf",
   "metadata": {},
   "outputs": [
    {
     "name": "stdout",
     "output_type": "stream",
     "text": [
      "[3, 6, 9]\n"
     ]
    },
    {
     "data": {
      "text/plain": [
       "[1, 2, 4, 5, 7, 8]"
      ]
     },
     "execution_count": 47,
     "metadata": {},
     "output_type": "execute_result"
    }
   ],
   "source": [
    "array = [1, 2, 3, 4, 5, 6, 7, 8, 9]\n",
    "# разбиваем на два массива по признаку кратности трём и заносим в две переменные\n",
    "one, two = array.partition{ |x| (x % 3).zero? } \n",
    "p one\n",
    "two"
   ]
  },
  {
   "cell_type": "markdown",
   "id": "f1c36336",
   "metadata": {},
   "source": [
    "**Логические итераторы**\n",
    "\n",
    "Все ли элементы удовлетворяют условию? В математической логике такой «итератор» называется _квантором общности_. На языке Ruby он называется `.all?`\n",
    "\n",
    "Хотя бы один элемент удовлетворяет условию? Еще один итератор из мат.логики - _квантор существования_. В Ruby он называется `.any?` "
   ]
  },
  {
   "cell_type": "code",
   "execution_count": 52,
   "id": "9be8803a",
   "metadata": {},
   "outputs": [
    {
     "data": {
      "text/plain": [
       "true"
      ]
     },
     "execution_count": 52,
     "metadata": {},
     "output_type": "execute_result"
    }
   ],
   "source": [
    "array = [3, 4, 6, 3]\n",
    "# все ли элементы массива больше двух\n",
    "array.all?{ |elem| elem > 2 }"
   ]
  },
  {
   "cell_type": "code",
   "execution_count": 55,
   "id": "9e6bacb2",
   "metadata": {},
   "outputs": [
    {
     "data": {
      "text/plain": [
       "false"
      ]
     },
     "execution_count": 55,
     "metadata": {},
     "output_type": "execute_result"
    }
   ],
   "source": [
    "# есть ли хоть один элемент больше двух\n",
    "array = [1, 2, 2, -3]\n",
    "array.any?{ |elem| elem > 2 }"
   ]
  },
  {
   "cell_type": "markdown",
   "id": "0d2351fb",
   "metadata": {},
   "source": [
    "**Еще примеры**"
   ]
  },
  {
   "cell_type": "code",
   "execution_count": 63,
   "id": "c3d10869",
   "metadata": {},
   "outputs": [
    {
     "data": {
      "text/plain": [
       "\"UoAaznCb\""
      ]
     },
     "execution_count": 63,
     "metadata": {},
     "output_type": "execute_result"
    }
   ],
   "source": [
    "# Генератор пароля - 8 случайных символов\n",
    "symbols = [\"a\"..\"z\", \"A\"..\"Z\", \"0\"..\"9\"].map{ |range| range.to_a }.flatten\n",
    "\n",
    "(0...8).map{ symbols.sample }.join  # Метод sample возвращает случайный элемент из массива."
   ]
  },
  {
   "cell_type": "code",
   "execution_count": 64,
   "id": "49a90d01",
   "metadata": {},
   "outputs": [
    {
     "data": {
      "text/plain": [
       "[2, 1, 3, 5, 7, 4, 6]"
      ]
     },
     "execution_count": 64,
     "metadata": {},
     "output_type": "execute_result"
    }
   ],
   "source": [
    "# Перемешать упорядоченный массив:\n",
    "\n",
    "array = [1, 2, 3, 4, 5, 6, 7]\n",
    "array.sort_by{ rand } "
   ]
  },
  {
   "cell_type": "code",
   "execution_count": 65,
   "id": "e9f8def2",
   "metadata": {},
   "outputs": [
    {
     "data": {
      "text/plain": [
       "[7, 6, 5, 4, 3, 2, 1]"
      ]
     },
     "execution_count": 65,
     "metadata": {},
     "output_type": "execute_result"
    }
   ],
   "source": [
    "# Выстроить элементы массива по убыванию без использования .reverse:\n",
    "\n",
    "array = [2, 1, 3, 5, 6, 7, 4]\n",
    "array.sort{ |x, y| y <=> x } "
   ]
  },
  {
   "cell_type": "code",
   "execution_count": null,
   "id": "d4c94f7b",
   "metadata": {},
   "outputs": [],
   "source": []
  }
 ],
 "metadata": {
  "kernelspec": {
   "display_name": "Ruby 2.7.3",
   "language": "ruby",
   "name": "ruby"
  },
  "language_info": {
   "file_extension": ".rb",
   "mimetype": "application/x-ruby",
   "name": "ruby",
   "version": "2.7.3"
  }
 },
 "nbformat": 4,
 "nbformat_minor": 5
}
