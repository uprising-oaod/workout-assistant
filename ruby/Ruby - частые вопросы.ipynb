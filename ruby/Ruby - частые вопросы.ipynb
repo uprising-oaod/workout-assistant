{
 "cells": [
  {
   "cell_type": "markdown",
   "id": "1b6ff26f",
   "metadata": {},
   "source": [
    "# Ruby - частые вопросы"
   ]
  }
 ],
 "metadata": {
  "kernelspec": {
   "display_name": "Ruby 2.7.3",
   "language": "ruby",
   "name": "ruby"
  },
  "language_info": {
   "file_extension": ".rb",
   "mimetype": "application/x-ruby",
   "name": "ruby",
   "version": "2.7.3"
  }
 },
 "nbformat": 4,
 "nbformat_minor": 5
}
