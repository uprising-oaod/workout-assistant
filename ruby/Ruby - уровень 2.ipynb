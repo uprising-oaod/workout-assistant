{
 "cells": [
  {
   "cell_type": "markdown",
   "id": "d5d9c028",
   "metadata": {},
   "source": [
    "# Ruby - уровень 2"
   ]
  },
  {
   "cell_type": "markdown",
   "id": "59604f23",
   "metadata": {},
   "source": [
    "## Классы с единственной обязанностью"
   ]
  },
  {
   "cell_type": "markdown",
   "id": "02a1c845",
   "metadata": {},
   "source": []
  }
 ],
 "metadata": {
  "kernelspec": {
   "display_name": "Ruby 2.7.3",
   "language": "ruby",
   "name": "ruby"
  },
  "language_info": {
   "file_extension": ".rb",
   "mimetype": "application/x-ruby",
   "name": "ruby",
   "version": "2.7.3"
  }
 },
 "nbformat": 4,
 "nbformat_minor": 5
}
